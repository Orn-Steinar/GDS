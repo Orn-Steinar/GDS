{
 "cells": [
  {
   "cell_type": "code",
   "execution_count": 3,
   "metadata": {},
   "outputs": [],
   "source": [
    "import pandas as pd\n",
    "from collections import Counter\n",
    "import numpy as np"
   ]
  },
  {
   "cell_type": "markdown",
   "metadata": {},
   "source": [
    "**Vocabulary**"
   ]
  },
  {
   "cell_type": "code",
   "execution_count": null,
   "metadata": {},
   "outputs": [],
   "source": [
    "def get_vocab(article_series, n):\n",
    "    \"\"\"Takes a Pandas series of lists of words and returns a dictionary\n",
    "        of the n most common words and their frequencies.\n",
    "\n",
    "    Input: article series: pd.Series list strings; n:int\n",
    "    Output: dict(string, int)\n",
    "    \"\"\"\n",
    "    all_words = [word \n",
    "                for article in article_series \n",
    "                if isinstance(article, (list,str))\n",
    "                for word in (article if isinstance(article, list) else article.split())\n",
    "    ]\n",
    "    word_counts = Counter(all_words)\n",
    "    return dict(word_counts.most_common(n))"
   ]
  },
  {
   "cell_type": "code",
   "execution_count": 9,
   "metadata": {},
   "outputs": [],
   "source": [
    "def get_vocab_2(article_series, n):\n",
    "    \"\"\"Takes a Pandas series of lists of words and returns a dictionary\n",
    "       of the n most common words and their frequencies.\n",
    "    \"\"\"\n",
    "    word_counts = Counter(\n",
    "        word \n",
    "        for article in article_series \n",
    "        if isinstance(article, (list, str)) \n",
    "        for word in (article if isinstance(article, list) else article.split())\n",
    "    )\n",
    "    return dict(word_counts.most_common(n))"
   ]
  },
  {
   "cell_type": "markdown",
   "metadata": {},
   "source": [
    "**One-hot encoding**"
   ]
  },
  {
   "cell_type": "code",
   "execution_count": null,
   "metadata": {},
   "outputs": [],
   "source": [
    "def one_hot_encoding(article_series, vocabulary):\n",
    "    \"\"\"\n",
    "    input: \n",
    "        arcle_series: pd.Series list string\n",
    "        vocabulary: dict(keys: strings, values: ints)\n",
    "    output: pd.DataFrame\n",
    "    \"\"\"\n",
    "    features = []\n",
    "    for article in article_series:\n",
    "        article_features = {word: 0 for word in vocabulary}\n",
    "        if isinstance(article, list):\n",
    "            for word in article:\n",
    "                if word in vocabulary:\n",
    "                    article_features[word] += 1\n",
    "        features.append(list(article_features.values()))\n",
    "    return pd.DataFrame(features, columns=vocabulary.keys())"
   ]
  },
  {
   "cell_type": "code",
   "execution_count": null,
   "metadata": {},
   "outputs": [],
   "source": [
    "def one_hot_encoding_2(article_series, vocabulary, dtype = np.int8):\n",
    "    \"\"\"\n",
    "    input: \n",
    "        article_series: pd.Series (list of words per article)\n",
    "        vocabulary: dict (words as keys)\n",
    "        dtype: specifies the data type of values in the outputted dataframe\n",
    "           \n",
    "    output: \n",
    "        pd.DataFrame (one-hot encoded word presence matrix)\n",
    "    \"\"\"\n",
    "    vocab_list = list(vocabulary.keys())  # Ensure consistent ordering\n",
    "    vocab_index = {word: i for i, word in enumerate(vocab_list)}  # Word-to-index mapping\n",
    "    \n",
    "    # Create a zero matrix with shape (num_articles, vocab_size)\n",
    "    encoded_matrix = np.zeros((len(article_series), len(vocab_list)), dtype=dtype)\n",
    "\n",
    "    for i, article in enumerate(article_series):\n",
    "        if isinstance(article, list):\n",
    "            for word in article:\n",
    "                if word in vocab_index:  # Faster lookup in dictionary\n",
    "                    encoded_matrix[i, vocab_index[word]] = 1  # Set 1 for presence\n",
    "    \n",
    "    return pd.DataFrame(encoded_matrix, columns=vocab_list, dtype=dtype)"
   ]
  }
 ],
 "metadata": {
  "kernelspec": {
   "display_name": "base",
   "language": "python",
   "name": "python3"
  },
  "language_info": {
   "codemirror_mode": {
    "name": "ipython",
    "version": 3
   },
   "file_extension": ".py",
   "mimetype": "text/x-python",
   "name": "python",
   "nbconvert_exporter": "python",
   "pygments_lexer": "ipython3",
   "version": "3.12.7"
  }
 },
 "nbformat": 4,
 "nbformat_minor": 2
}
