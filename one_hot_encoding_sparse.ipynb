{
 "cells": [
  {
   "cell_type": "code",
   "execution_count": 1,
   "metadata": {},
   "outputs": [
    {
     "data": {
      "text/plain": [
       "(686801, 2)"
      ]
     },
     "execution_count": 1,
     "metadata": {},
     "output_type": "execute_result"
    }
   ],
   "source": [
    "import pandas as pd\n",
    "import pickle\n",
    "\n",
    "input_file = 'articles_preprocessed_1mio.pkl'\n",
    "dfs = []\n",
    "\n",
    "with open(input_file, \"rb\") as file:\n",
    "    while True:\n",
    "        try:\n",
    "            chunk = pickle.load(file)\n",
    "            dfs.append(chunk)\n",
    "        except EOFError:\n",
    "            break\n",
    "df = pd.concat(dfs, ignore_index=True)\n",
    "df.shape"
   ]
  },
  {
   "cell_type": "code",
   "execution_count": 2,
   "metadata": {},
   "outputs": [
    {
     "name": "stdout",
     "output_type": "stream",
     "text": [
      "<class 'list'>\n"
     ]
    }
   ],
   "source": [
    "print(type(df.loc[0, \"content\"]))#Debug"
   ]
  },
  {
   "cell_type": "code",
   "execution_count": 3,
   "metadata": {},
   "outputs": [],
   "source": [
    "from collections import Counter\n",
    "def get_vocab(article_series, n):\n",
    "    \"\"\"Takes a Pandas series of lists of words and returns a dictionary\n",
    "        of the n most common words and their frequencies.\n",
    "    \"\"\"\n",
    "    all_words = [word \n",
    "                for article in article_series \n",
    "                if isinstance(article, (list,str))\n",
    "                for word in (article if isinstance(article, list) else article.split())\n",
    "    ]\n",
    "    word_counts = Counter(all_words)\n",
    "    return dict(word_counts.most_common(n))"
   ]
  },
  {
   "cell_type": "code",
   "execution_count": 4,
   "metadata": {},
   "outputs": [],
   "source": [
    "vocabulary = get_vocab(df['content'], 10000)"
   ]
  },
  {
   "cell_type": "code",
   "execution_count": 5,
   "metadata": {},
   "outputs": [],
   "source": [
    "import numpy as np\n",
    "import scipy.sparse as sp\n",
    "\n",
    "def one_hot_encoding_2_sparse(article_series, vocabulary, dtype = np.int8):\n",
    "    \"\"\"\n",
    "    input: article_series: pd.Series (list of words per article)\n",
    "           vocabulary: dict (words as keys)\n",
    "    output: pd.DataFrame (one-hot encoded word presence matrix)\n",
    "    \"\"\"\n",
    "    vocab_list = list(vocabulary.keys())  # Ensure consistent ordering\n",
    "    vocab_index = {word: i for i, word in enumerate(vocab_list)}  # Word-to-index mapping\n",
    "    \n",
    "    row_indices = []\n",
    "    col_indices = []\n",
    "    \n",
    "    for i, article in enumerate(article_series):\n",
    "        if isinstance(article, list):\n",
    "            for word in article:\n",
    "                if word in vocab_index:\n",
    "                    row_indices.append(i)\n",
    "                    col_indices.append(vocab_index[word])\n",
    "\n",
    "    # Create a sparse matrix\n",
    "    encoded_matrix = sp.csr_matrix(\n",
    "        (np.ones(len(row_indices), dtype=dtype), (row_indices, col_indices)),\n",
    "        shape=(len(article_series), len(vocab_list))\n",
    "    )\n",
    "    \n",
    "    return encoded_matrix"
   ]
  },
  {
   "cell_type": "code",
   "execution_count": 6,
   "metadata": {},
   "outputs": [],
   "source": [
    "articles_encoded = one_hot_encoding_2_sparse(df['content'],vocabulary)"
   ]
  },
  {
   "cell_type": "code",
   "execution_count": 7,
   "metadata": {},
   "outputs": [],
   "source": [
    "import pickle\n",
    "\n",
    "output_file = 'articles_one-hot-encoded_1mio_sparsem.pkl'\n",
    "\n",
    "with open(output_file, \"wb\") as f:\n",
    "    pickle.dump(articles_encoded,f)"
   ]
  }
 ],
 "metadata": {
  "kernelspec": {
   "display_name": "base",
   "language": "python",
   "name": "python3"
  },
  "language_info": {
   "codemirror_mode": {
    "name": "ipython",
    "version": 3
   },
   "file_extension": ".py",
   "mimetype": "text/x-python",
   "name": "python",
   "nbconvert_exporter": "python",
   "pygments_lexer": "ipython3",
   "version": "3.12.7"
  }
 },
 "nbformat": 4,
 "nbformat_minor": 2
}
