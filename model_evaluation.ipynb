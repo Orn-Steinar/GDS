{
 "cells": [
  {
   "cell_type": "markdown",
   "metadata": {},
   "source": [
    "**Task 1**"
   ]
  },
  {
   "cell_type": "markdown",
   "metadata": {},
   "source": [
    "Load the trained models along with test sets"
   ]
  },
  {
   "cell_type": "code",
   "execution_count": 5,
   "metadata": {},
   "outputs": [],
   "source": [
    "import pickle\n",
    "\n",
    "with open('LogReg_model.pkl', 'rb') as f:\n",
    "    logreg_model = pickle.load(f)\n",
    "\n",
    "with open('NaiveBayes_model.pkl', 'rb') as f:\n",
    "    naivebayes_model = pickle.load(f)\n",
    "\n",
    "with open('test_set_ftidf.pkl', 'rb') as f:\n",
    "    X_test_tfidf, y_test_tfidf = pickle.load(f)\n",
    "\n",
    "with open('test_set_ftidf.pkl', 'rb') as f:\n",
    "    X_test_oh, y_test_oh = pickle.load(f)"
   ]
  },
  {
   "cell_type": "markdown",
   "metadata": {},
   "source": [
    "Make predictions"
   ]
  },
  {
   "cell_type": "code",
   "execution_count": 6,
   "metadata": {},
   "outputs": [],
   "source": [
    "LR_pred = logreg_model.predict(X_test_oh)\n",
    "NB_pred = naivebayes_model.predict(X_test_tfidf)"
   ]
  },
  {
   "cell_type": "markdown",
   "metadata": {},
   "source": [
    "Evaluate predictions"
   ]
  },
  {
   "cell_type": "code",
   "execution_count": 7,
   "metadata": {},
   "outputs": [
    {
     "name": "stdout",
     "output_type": "stream",
     "text": [
      "Logistic Regression: f1 = 0.86063\n",
      "Naive Bayes: f1 = 0.93118\n"
     ]
    }
   ],
   "source": [
    "from sklearn.metrics import f1_score, classification_report\n",
    "\n",
    "LR_f1 = f1_score(y_true=y_test_oh, y_pred=LR_pred)\n",
    "NB_f1 = f1_score(y_true=y_test_tfidf, y_pred=NB_pred)\n",
    "\n",
    "print(f\"Logistic Regression: f1 = {LR_f1:.5f}\")\n",
    "print(f\"Naive Bayes: f1 = {NB_f1:.5f}\")"
   ]
  },
  {
   "cell_type": "markdown",
   "metadata": {},
   "source": [
    "**Task 2**"
   ]
  },
  {
   "cell_type": "markdown",
   "metadata": {},
   "source": [
    "Load the LIAR dataset"
   ]
  },
  {
   "cell_type": "code",
   "execution_count": 20,
   "metadata": {},
   "outputs": [
    {
     "data": {
      "text/plain": [
       "(1267, 10001)"
      ]
     },
     "execution_count": 20,
     "metadata": {},
     "output_type": "execute_result"
    }
   ],
   "source": [
    "import pandas as pd\n",
    "\n",
    "df = pd.read_pickle('LIAR_onehot.pkl')\n",
    "X_LIAR = df.drop(columns=['LABELS'])\n",
    "y_LIAR = df['LABELS']\n",
    "df.shape"
   ]
  },
  {
   "cell_type": "code",
   "execution_count": 21,
   "metadata": {},
   "outputs": [
    {
     "name": "stderr",
     "output_type": "stream",
     "text": [
      "c:\\Users\\oddis\\anaconda3\\Lib\\site-packages\\sklearn\\base.py:486: UserWarning: X has feature names, but MaxAbsScaler was fitted without feature names\n",
      "  warnings.warn(\n",
      "c:\\Users\\oddis\\anaconda3\\Lib\\site-packages\\sklearn\\base.py:486: UserWarning: X has feature names, but MultinomialNB was fitted without feature names\n",
      "  warnings.warn(\n"
     ]
    }
   ],
   "source": [
    "LR_pred_liar = logreg_model.predict(X_LIAR)\n",
    "NB_pred_liar = naivebayes_model.predict(X_LIAR)"
   ]
  },
  {
   "cell_type": "code",
   "execution_count": 22,
   "metadata": {},
   "outputs": [
    {
     "name": "stdout",
     "output_type": "stream",
     "text": [
      "Logistic Regression: f1 = 0.72085\n",
      "Naive Bayes: f1 = 0.66203\n"
     ]
    }
   ],
   "source": [
    "LR_f1 = f1_score(y_true=y_LIAR, y_pred=LR_pred_liar)\n",
    "NB_f1 = f1_score(y_true=y_LIAR, y_pred=NB_pred_liar)\n",
    "\n",
    "print(f\"Logistic Regression: f1 = {LR_f1:.5f}\")\n",
    "print(f\"Naive Bayes: f1 = {NB_f1:.5f}\")"
   ]
  }
 ],
 "metadata": {
  "kernelspec": {
   "display_name": "base",
   "language": "python",
   "name": "python3"
  },
  "language_info": {
   "codemirror_mode": {
    "name": "ipython",
    "version": 3
   },
   "file_extension": ".py",
   "mimetype": "text/x-python",
   "name": "python",
   "nbconvert_exporter": "python",
   "pygments_lexer": "ipython3",
   "version": "3.12.7"
  }
 },
 "nbformat": 4,
 "nbformat_minor": 2
}
