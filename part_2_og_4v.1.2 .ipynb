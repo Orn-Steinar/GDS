{
 "cells": [
  {
   "cell_type": "markdown",
   "metadata": {},
   "source": [
    "## Part 1: Data Processing"
   ]
  },
  {
   "cell_type": "markdown",
   "metadata": {},
   "source": [
    "### Packages"
   ]
  },
  {
   "cell_type": "code",
   "execution_count": 164,
   "metadata": {},
   "outputs": [],
   "source": [
    "import re\n",
    "import pandas as pd\n",
    "import nltk\n",
    "from nltk.corpus import stopwords\n",
    "from nltk.stem.porter import *\n",
    "stop_words = stopwords.words('english')\n",
    "stemmer = PorterStemmer()\n",
    "import matplotlib.pyplot as plt\n",
    "from sklearn.model_selection import train_test_split\n",
    "from sklearn.linear_model import LogisticRegression\n",
    "from sklearn.metrics import f1_score\n",
    "from sklearn.model_selection import GridSearchCV\n",
    "from sklearn.preprocessing import StandardScaler\n",
    "from sklearn.metrics import f1_score, classification_report\n",
    "from collections import Counter"
   ]
  },
  {
   "cell_type": "markdown",
   "metadata": {},
   "source": [
    "### Functions"
   ]
  },
  {
   "cell_type": "code",
   "execution_count": 165,
   "metadata": {},
   "outputs": [],
   "source": [
    "import pandas as pd\n",
    "import re\n",
    "\n",
    "strange_double_quotes = [\"«\",\"‹\",\"»\",\"›\",\"„\",\"“\",\"‟\",\"”\",\"❝\",\"❞\",\"❮\",\"❯\",\"〝\",\"〞\",\"〟\",\"＂\",]\n",
    "strange_single_quotes = [\"‘\", \"‛\", \"’\", \"❛\", \"❜\", \"`\", \"´\", \"‘\", \"’\"]\n",
    "\n",
    "double_quotes= re.compile(\"|\".join(strange_double_quotes))\n",
    "single_quotes= re.compile(\"|\".join(strange_single_quotes))\n",
    "\n",
    "def clean_text_2(text):\n",
    "\n",
    "    #fix quotation marks\n",
    "    text = double_quotes.sub('\"', text)\n",
    "    text = single_quotes.sub(\"'\", text)\n",
    "    \n",
    "    #Standardise case\n",
    "    text = text.lower()\n",
    "\n",
    "    #remove numbers, URLS, emails and dates\n",
    "    text = re.sub(r'http[^\\s]*','URL', text)\n",
    "    text = re.sub(r'[a-zA-Z0-9._%+-]+@[a-zA-Z0-9.-]+\\.[a-zA-Z]{2,}', 'EMAIL', text)\n",
    "    text = re.sub(r'([\\w]+[ \\.]+[\\d]{,2}, [\\d]{4})|(\\d{4}-\\d{2}-\\d{2})','DATE',text)\n",
    "    text = re.sub(r'[\\d]{2}:[\\d]{2}:[\\d]{2}(.[\\d]+)?','TIME',text)\n",
    "    text = re.sub(r'\\d+','NUM',text)\n",
    "\n",
    "    #Replace punctuation with whitespaces\n",
    "    text = re.sub(r\"\"\"[,.:'\"\\[\\]\\(\\)]\"\"\", ' ', text)\n",
    "    text = re.sub(r'-', '', text)\n",
    "\n",
    "    #Normalize whitespaces\n",
    "    text = re.sub(r'\\n{1,}',' ',text)#replace new-lines with whitespaces\n",
    "    text = re.sub('[ ]+', ' ', text) #remove multiple spaces\n",
    "\n",
    "    return text \n"
   ]
  },
  {
   "cell_type": "code",
   "execution_count": 166,
   "metadata": {},
   "outputs": [],
   "source": [
    "def vocab_size(data): #\n",
    "    \"\"\"Calculates vocabulary size for a Pandas series containing strings.\n",
    "\n",
    "    input: pd series of strings\n",
    "    output: int\n",
    "    \"\"\"\n",
    "    freq_dict = {}\n",
    "    for text in data:\n",
    "        text = text.split(' ')\n",
    "        for word in text:\n",
    "            freq_dict[word] = freq_dict.get(word, 0) + 1\n",
    "    return len(pd.Series(freq_dict))\n",
    "\n",
    "def vocab_size_2(ser): #calculates vocabulary size for string list inputs\n",
    "    \"\"\"Calculates vocabulary size for a Pandas series containing string lists\n",
    "    input: pd Series of string lists\n",
    "    output: int\n",
    "    \"\"\"\n",
    "    freq_dict = {}\n",
    "    for text in ser:\n",
    "        for word in text:\n",
    "            freq_dict[word] = freq_dict.get(word, 0) + 1\n",
    "    return len(pd.Series(freq_dict))"
   ]
  },
  {
   "cell_type": "code",
   "execution_count": 167,
   "metadata": {},
   "outputs": [],
   "source": [
    "def filter_stopwords(text):\n",
    "    text = [word for word in text if word not in stop_words]\n",
    "    return text\n",
    "\n",
    "def stem(text):\n",
    "    text = [stemmer.stem(word) for word in text]\n",
    "    return text"
   ]
  },
  {
   "cell_type": "markdown",
   "metadata": {},
   "source": [
    "### Storing the .CSV file"
   ]
  },
  {
   "cell_type": "code",
   "execution_count": 168,
   "metadata": {},
   "outputs": [
    {
     "data": {
      "text/html": [
       "<div>\n",
       "<style scoped>\n",
       "    .dataframe tbody tr th:only-of-type {\n",
       "        vertical-align: middle;\n",
       "    }\n",
       "\n",
       "    .dataframe tbody tr th {\n",
       "        vertical-align: top;\n",
       "    }\n",
       "\n",
       "    .dataframe thead th {\n",
       "        text-align: right;\n",
       "    }\n",
       "</style>\n",
       "<table border=\"1\" class=\"dataframe\">\n",
       "  <thead>\n",
       "    <tr style=\"text-align: right;\">\n",
       "      <th></th>\n",
       "      <th>Unnamed: 0</th>\n",
       "      <th>id</th>\n",
       "      <th>domain</th>\n",
       "      <th>type</th>\n",
       "      <th>url</th>\n",
       "      <th>content</th>\n",
       "      <th>scraped_at</th>\n",
       "      <th>inserted_at</th>\n",
       "      <th>updated_at</th>\n",
       "      <th>title</th>\n",
       "      <th>authors</th>\n",
       "      <th>keywords</th>\n",
       "      <th>meta_keywords</th>\n",
       "      <th>meta_description</th>\n",
       "      <th>tags</th>\n",
       "      <th>summary</th>\n",
       "      <th>source</th>\n",
       "    </tr>\n",
       "  </thead>\n",
       "  <tbody>\n",
       "    <tr>\n",
       "      <th>0</th>\n",
       "      <td>732</td>\n",
       "      <td>7444726.0</td>\n",
       "      <td>nationalreview.com</td>\n",
       "      <td>political</td>\n",
       "      <td>http://www.nationalreview.com/node/152734/%E2%...</td>\n",
       "      <td>Plus one article on Google Plus\\n\\n(Thanks to ...</td>\n",
       "      <td>2017-11-27T01:14:42.983556</td>\n",
       "      <td>2018-02-08 19:18:34.468038</td>\n",
       "      <td>2018-02-08 19:18:34.468066</td>\n",
       "      <td>Iran News Round Up</td>\n",
       "      <td>NaN</td>\n",
       "      <td>NaN</td>\n",
       "      <td>['National Review', 'National Review Online', ...</td>\n",
       "      <td>NaN</td>\n",
       "      <td>NaN</td>\n",
       "      <td>NaN</td>\n",
       "      <td>NaN</td>\n",
       "    </tr>\n",
       "    <tr>\n",
       "      <th>1</th>\n",
       "      <td>1348</td>\n",
       "      <td>6213642.0</td>\n",
       "      <td>beforeitsnews.com</td>\n",
       "      <td>fake</td>\n",
       "      <td>http://beforeitsnews.com/economy/2012/06/the-c...</td>\n",
       "      <td>The Cost Of The Best Senate Banking Committee ...</td>\n",
       "      <td>2017-11-27T01:14:08.7454</td>\n",
       "      <td>2018-02-08 19:18:34.468038</td>\n",
       "      <td>2018-02-08 19:18:34.468066</td>\n",
       "      <td>The Cost Of The Best Senate Banking Committee ...</td>\n",
       "      <td>NaN</td>\n",
       "      <td>NaN</td>\n",
       "      <td>['']</td>\n",
       "      <td>NaN</td>\n",
       "      <td>NaN</td>\n",
       "      <td>NaN</td>\n",
       "      <td>NaN</td>\n",
       "    </tr>\n",
       "    <tr>\n",
       "      <th>2</th>\n",
       "      <td>7119</td>\n",
       "      <td>3867639.0</td>\n",
       "      <td>dailycurrant.com</td>\n",
       "      <td>satire</td>\n",
       "      <td>http://dailycurrant.com/2016/01/18/man-awoken-...</td>\n",
       "      <td>Man Awoken From 27-Year Coma Commits Suicide A...</td>\n",
       "      <td>2017-11-27T01:14:21.395055</td>\n",
       "      <td>2018-02-07 23:39:33.852671</td>\n",
       "      <td>2018-02-07 23:39:33.852696</td>\n",
       "      <td>Man Awoken From 27-Year Coma Commits Suicide A...</td>\n",
       "      <td>NaN</td>\n",
       "      <td>NaN</td>\n",
       "      <td>['']</td>\n",
       "      <td>NaN</td>\n",
       "      <td>NaN</td>\n",
       "      <td>NaN</td>\n",
       "      <td>NaN</td>\n",
       "    </tr>\n",
       "    <tr>\n",
       "      <th>3</th>\n",
       "      <td>1518</td>\n",
       "      <td>9560791.0</td>\n",
       "      <td>nytimes.com</td>\n",
       "      <td>reliable</td>\n",
       "      <td>https://query.nytimes.com/gst/fullpage.html?re...</td>\n",
       "      <td>WHEN Julia Geist was asked to draw a picture o...</td>\n",
       "      <td>2018-02-11 00:46:42.632962</td>\n",
       "      <td>2018-02-11 00:14:20.346838</td>\n",
       "      <td>2018-02-11 00:14:20.346871</td>\n",
       "      <td>Opening a Gateway for Girls to Enter the Compu...</td>\n",
       "      <td>NaN</td>\n",
       "      <td>NaN</td>\n",
       "      <td>['Computers and the Internet', 'Women and Girl...</td>\n",
       "      <td>WHEN Julia Geist was asked to draw a picture o...</td>\n",
       "      <td>NaN</td>\n",
       "      <td>NaN</td>\n",
       "      <td>nytimes</td>\n",
       "    </tr>\n",
       "    <tr>\n",
       "      <th>4</th>\n",
       "      <td>9345</td>\n",
       "      <td>2059625.0</td>\n",
       "      <td>infiniteunknown.net</td>\n",
       "      <td>conspiracy</td>\n",
       "      <td>http://www.infiniteunknown.net/2011/09/14/100-...</td>\n",
       "      <td>– 100 Compiled Studies on Vaccine Dangers (Act...</td>\n",
       "      <td>2017-11-10T11:18:44.524042</td>\n",
       "      <td>2018-02-07 23:39:33.852671</td>\n",
       "      <td>2018-02-07 23:39:33.852696</td>\n",
       "      <td>100 Compiled Studies on Vaccine Dangers – Infi...</td>\n",
       "      <td>NaN</td>\n",
       "      <td>NaN</td>\n",
       "      <td>['']</td>\n",
       "      <td>NaN</td>\n",
       "      <td>Lymphoma, Hepatitis B, Immune System, Health, ...</td>\n",
       "      <td>NaN</td>\n",
       "      <td>NaN</td>\n",
       "    </tr>\n",
       "    <tr>\n",
       "      <th>...</th>\n",
       "      <td>...</td>\n",
       "      <td>...</td>\n",
       "      <td>...</td>\n",
       "      <td>...</td>\n",
       "      <td>...</td>\n",
       "      <td>...</td>\n",
       "      <td>...</td>\n",
       "      <td>...</td>\n",
       "      <td>...</td>\n",
       "      <td>...</td>\n",
       "      <td>...</td>\n",
       "      <td>...</td>\n",
       "      <td>...</td>\n",
       "      <td>...</td>\n",
       "      <td>...</td>\n",
       "      <td>...</td>\n",
       "      <td>...</td>\n",
       "    </tr>\n",
       "    <tr>\n",
       "      <th>19995</th>\n",
       "      <td>8050</td>\n",
       "      <td>4931949.0</td>\n",
       "      <td>pravda.ru</td>\n",
       "      <td>bias</td>\n",
       "      <td>https://www.pravda.ru/politics/military/defenc...</td>\n",
       "      <td>Россия - Америка: сохраняется ли паритет?\\n\\n5...</td>\n",
       "      <td>2017-11-27T01:15:02.476695</td>\n",
       "      <td>2018-02-07 23:39:33.852671</td>\n",
       "      <td>2018-02-07 23:39:33.852696</td>\n",
       "      <td>Россия - Америка: сохраняется ли паритет?</td>\n",
       "      <td>Антон Куликов, Александр Артамонов, Руслан Вес...</td>\n",
       "      <td>NaN</td>\n",
       "      <td>['']</td>\n",
       "      <td>50 лет назад произошло одно весьма примечатель...</td>\n",
       "      <td>NaN</td>\n",
       "      <td>NaN</td>\n",
       "      <td>NaN</td>\n",
       "    </tr>\n",
       "    <tr>\n",
       "      <th>19996</th>\n",
       "      <td>4387</td>\n",
       "      <td>8463446.0</td>\n",
       "      <td>nytimes.com</td>\n",
       "      <td>reliable</td>\n",
       "      <td>https://www.nytimes.com/2001/05/24/nyregion/a-...</td>\n",
       "      <td>Walter's parents -- his mother is a housekeepe...</td>\n",
       "      <td>2018-02-11 00:35:56.562488</td>\n",
       "      <td>2018-02-11 00:14:20.346838</td>\n",
       "      <td>2018-02-11 00:14:20.346871</td>\n",
       "      <td>A Boy's Slaying Resonates in a Bedroom City of...</td>\n",
       "      <td>Andrew Jacobs, Robert Hanley</td>\n",
       "      <td>NaN</td>\n",
       "      <td>['MORRISTOWN (NJ)', 'VALENZUELA  WALTER', 'ILL...</td>\n",
       "      <td>Morris County, NJ, authorities appeal to Hispa...</td>\n",
       "      <td>NaN</td>\n",
       "      <td>NaN</td>\n",
       "      <td>nytimes</td>\n",
       "    </tr>\n",
       "    <tr>\n",
       "      <th>19997</th>\n",
       "      <td>662</td>\n",
       "      <td>7274765.0</td>\n",
       "      <td>nationalreview.com</td>\n",
       "      <td>political</td>\n",
       "      <td>http://www.nationalreview.com/node/152734/%E2%...</td>\n",
       "      <td>Plus one article on Google Plus\\n\\n(Thanks to ...</td>\n",
       "      <td>2017-11-27T01:14:42.983556</td>\n",
       "      <td>2018-02-08 19:18:34.468038</td>\n",
       "      <td>2018-02-08 19:18:34.468066</td>\n",
       "      <td>Iran News Round Up</td>\n",
       "      <td>NaN</td>\n",
       "      <td>NaN</td>\n",
       "      <td>['National Review', 'National Review Online', ...</td>\n",
       "      <td>NaN</td>\n",
       "      <td>NaN</td>\n",
       "      <td>NaN</td>\n",
       "      <td>NaN</td>\n",
       "    </tr>\n",
       "    <tr>\n",
       "      <th>19998</th>\n",
       "      <td>1599</td>\n",
       "      <td>4305464.0</td>\n",
       "      <td>beforeitsnews.com</td>\n",
       "      <td>fake</td>\n",
       "      <td>http://beforeitsnews.com/african-american-news...</td>\n",
       "      <td>People Over Profits! Jasiri X supports workers...</td>\n",
       "      <td>2017-11-27T01:14:08.7454</td>\n",
       "      <td>2018-02-07 23:39:33.852671</td>\n",
       "      <td>2018-02-07 23:39:33.852696</td>\n",
       "      <td>People Over Profits! Jasiri X supports workers...</td>\n",
       "      <td>Brother Jesse Muhammad</td>\n",
       "      <td>NaN</td>\n",
       "      <td>['']</td>\n",
       "      <td>NaN</td>\n",
       "      <td>NaN</td>\n",
       "      <td>NaN</td>\n",
       "      <td>NaN</td>\n",
       "    </tr>\n",
       "    <tr>\n",
       "      <th>19999</th>\n",
       "      <td>97</td>\n",
       "      <td>22509.0</td>\n",
       "      <td>beforeitsnews.com</td>\n",
       "      <td>fake</td>\n",
       "      <td>http://beforeitsnews.com/blogging-citizen-jour...</td>\n",
       "      <td>France Prepares for Civil War, The Truth About...</td>\n",
       "      <td>2018-01-25 16:17:44.789555</td>\n",
       "      <td>2018-02-02 01:19:41.756632</td>\n",
       "      <td>2018-02-02 01:19:41.756664</td>\n",
       "      <td>France Prepares for Civil War, The Truth About...</td>\n",
       "      <td>Paranormal Stories</td>\n",
       "      <td>NaN</td>\n",
       "      <td>['']</td>\n",
       "      <td>NaN</td>\n",
       "      <td>NaN</td>\n",
       "      <td>NaN</td>\n",
       "      <td>NaN</td>\n",
       "    </tr>\n",
       "  </tbody>\n",
       "</table>\n",
       "<p>20000 rows × 17 columns</p>\n",
       "</div>"
      ],
      "text/plain": [
       "      Unnamed: 0         id               domain        type  \\\n",
       "0            732  7444726.0   nationalreview.com   political   \n",
       "1           1348  6213642.0    beforeitsnews.com        fake   \n",
       "2           7119  3867639.0     dailycurrant.com      satire   \n",
       "3           1518  9560791.0          nytimes.com    reliable   \n",
       "4           9345  2059625.0  infiniteunknown.net  conspiracy   \n",
       "...          ...        ...                  ...         ...   \n",
       "19995       8050  4931949.0            pravda.ru        bias   \n",
       "19996       4387  8463446.0          nytimes.com    reliable   \n",
       "19997        662  7274765.0   nationalreview.com   political   \n",
       "19998       1599  4305464.0    beforeitsnews.com        fake   \n",
       "19999         97    22509.0    beforeitsnews.com        fake   \n",
       "\n",
       "                                                     url  \\\n",
       "0      http://www.nationalreview.com/node/152734/%E2%...   \n",
       "1      http://beforeitsnews.com/economy/2012/06/the-c...   \n",
       "2      http://dailycurrant.com/2016/01/18/man-awoken-...   \n",
       "3      https://query.nytimes.com/gst/fullpage.html?re...   \n",
       "4      http://www.infiniteunknown.net/2011/09/14/100-...   \n",
       "...                                                  ...   \n",
       "19995  https://www.pravda.ru/politics/military/defenc...   \n",
       "19996  https://www.nytimes.com/2001/05/24/nyregion/a-...   \n",
       "19997  http://www.nationalreview.com/node/152734/%E2%...   \n",
       "19998  http://beforeitsnews.com/african-american-news...   \n",
       "19999  http://beforeitsnews.com/blogging-citizen-jour...   \n",
       "\n",
       "                                                 content  \\\n",
       "0      Plus one article on Google Plus\\n\\n(Thanks to ...   \n",
       "1      The Cost Of The Best Senate Banking Committee ...   \n",
       "2      Man Awoken From 27-Year Coma Commits Suicide A...   \n",
       "3      WHEN Julia Geist was asked to draw a picture o...   \n",
       "4      – 100 Compiled Studies on Vaccine Dangers (Act...   \n",
       "...                                                  ...   \n",
       "19995  Россия - Америка: сохраняется ли паритет?\\n\\n5...   \n",
       "19996  Walter's parents -- his mother is a housekeepe...   \n",
       "19997  Plus one article on Google Plus\\n\\n(Thanks to ...   \n",
       "19998  People Over Profits! Jasiri X supports workers...   \n",
       "19999  France Prepares for Civil War, The Truth About...   \n",
       "\n",
       "                       scraped_at                 inserted_at  \\\n",
       "0      2017-11-27T01:14:42.983556  2018-02-08 19:18:34.468038   \n",
       "1        2017-11-27T01:14:08.7454  2018-02-08 19:18:34.468038   \n",
       "2      2017-11-27T01:14:21.395055  2018-02-07 23:39:33.852671   \n",
       "3      2018-02-11 00:46:42.632962  2018-02-11 00:14:20.346838   \n",
       "4      2017-11-10T11:18:44.524042  2018-02-07 23:39:33.852671   \n",
       "...                           ...                         ...   \n",
       "19995  2017-11-27T01:15:02.476695  2018-02-07 23:39:33.852671   \n",
       "19996  2018-02-11 00:35:56.562488  2018-02-11 00:14:20.346838   \n",
       "19997  2017-11-27T01:14:42.983556  2018-02-08 19:18:34.468038   \n",
       "19998    2017-11-27T01:14:08.7454  2018-02-07 23:39:33.852671   \n",
       "19999  2018-01-25 16:17:44.789555  2018-02-02 01:19:41.756632   \n",
       "\n",
       "                       updated_at  \\\n",
       "0      2018-02-08 19:18:34.468066   \n",
       "1      2018-02-08 19:18:34.468066   \n",
       "2      2018-02-07 23:39:33.852696   \n",
       "3      2018-02-11 00:14:20.346871   \n",
       "4      2018-02-07 23:39:33.852696   \n",
       "...                           ...   \n",
       "19995  2018-02-07 23:39:33.852696   \n",
       "19996  2018-02-11 00:14:20.346871   \n",
       "19997  2018-02-08 19:18:34.468066   \n",
       "19998  2018-02-07 23:39:33.852696   \n",
       "19999  2018-02-02 01:19:41.756664   \n",
       "\n",
       "                                                   title  \\\n",
       "0                                     Iran News Round Up   \n",
       "1      The Cost Of The Best Senate Banking Committee ...   \n",
       "2      Man Awoken From 27-Year Coma Commits Suicide A...   \n",
       "3      Opening a Gateway for Girls to Enter the Compu...   \n",
       "4      100 Compiled Studies on Vaccine Dangers – Infi...   \n",
       "...                                                  ...   \n",
       "19995          Россия - Америка: сохраняется ли паритет?   \n",
       "19996  A Boy's Slaying Resonates in a Bedroom City of...   \n",
       "19997                                 Iran News Round Up   \n",
       "19998  People Over Profits! Jasiri X supports workers...   \n",
       "19999  France Prepares for Civil War, The Truth About...   \n",
       "\n",
       "                                                 authors  keywords  \\\n",
       "0                                                    NaN       NaN   \n",
       "1                                                    NaN       NaN   \n",
       "2                                                    NaN       NaN   \n",
       "3                                                    NaN       NaN   \n",
       "4                                                    NaN       NaN   \n",
       "...                                                  ...       ...   \n",
       "19995  Антон Куликов, Александр Артамонов, Руслан Вес...       NaN   \n",
       "19996                       Andrew Jacobs, Robert Hanley       NaN   \n",
       "19997                                                NaN       NaN   \n",
       "19998                             Brother Jesse Muhammad       NaN   \n",
       "19999                                 Paranormal Stories       NaN   \n",
       "\n",
       "                                           meta_keywords  \\\n",
       "0      ['National Review', 'National Review Online', ...   \n",
       "1                                                   ['']   \n",
       "2                                                   ['']   \n",
       "3      ['Computers and the Internet', 'Women and Girl...   \n",
       "4                                                   ['']   \n",
       "...                                                  ...   \n",
       "19995                                               ['']   \n",
       "19996  ['MORRISTOWN (NJ)', 'VALENZUELA  WALTER', 'ILL...   \n",
       "19997  ['National Review', 'National Review Online', ...   \n",
       "19998                                               ['']   \n",
       "19999                                               ['']   \n",
       "\n",
       "                                        meta_description  \\\n",
       "0                                                    NaN   \n",
       "1                                                    NaN   \n",
       "2                                                    NaN   \n",
       "3      WHEN Julia Geist was asked to draw a picture o...   \n",
       "4                                                    NaN   \n",
       "...                                                  ...   \n",
       "19995  50 лет назад произошло одно весьма примечатель...   \n",
       "19996  Morris County, NJ, authorities appeal to Hispa...   \n",
       "19997                                                NaN   \n",
       "19998                                                NaN   \n",
       "19999                                                NaN   \n",
       "\n",
       "                                                    tags  summary   source  \n",
       "0                                                    NaN      NaN      NaN  \n",
       "1                                                    NaN      NaN      NaN  \n",
       "2                                                    NaN      NaN      NaN  \n",
       "3                                                    NaN      NaN  nytimes  \n",
       "4      Lymphoma, Hepatitis B, Immune System, Health, ...      NaN      NaN  \n",
       "...                                                  ...      ...      ...  \n",
       "19995                                                NaN      NaN      NaN  \n",
       "19996                                                NaN      NaN  nytimes  \n",
       "19997                                                NaN      NaN      NaN  \n",
       "19998                                                NaN      NaN      NaN  \n",
       "19999                                                NaN      NaN      NaN  \n",
       "\n",
       "[20000 rows x 17 columns]"
      ]
     },
     "execution_count": 168,
     "metadata": {},
     "output_type": "execute_result"
    }
   ],
   "source": [
    "df2 = pd.read_csv(\"/Users/david.joergensen/Documents/ProjectsVS/995,000_rows_sample3.csv\")\n",
    "df2"
   ]
  },
  {
   "cell_type": "markdown",
   "metadata": {},
   "source": [
    "### Cleaning"
   ]
  },
  {
   "cell_type": "code",
   "execution_count": 169,
   "metadata": {},
   "outputs": [
    {
     "name": "stdout",
     "output_type": "stream",
     "text": [
      "content\n",
      "plus one article on google plus thanks to ali alfoneh for his assistance in compiling politics nuclear issue supreme leader tells islamic student associations at foreign universities conspiracies and machinations of the enemy including the scientific apartheid which they try to subject our nation to only strengthens the unity of our people head of iran s nuclear energy agency conditions not right for implementation of the additional protocol more reactors coming online? military admiral habiballah sayyari chief of the islamic republic of iran navy closure of the hormuz strait is not under consideration during upcoming war games added that iranianmade submarines are soon to leave docks in southern iran seyyedyahya rahim safavi former irgc head and current advisor to supreme leader risk of an attack against iran is minimal… iran s defense doctrine does not entail nuclear weapons society and culture iranian psychologist davar sheikhavandi window shopping brings girls and boys together in socially dangerous environments such as shopping malls… which are a prelude to decadence the islamic republic s minister of interior informs the public of changes in the preislamic nowruz new year holidays in iran public health minister of health iranianproduced aids medicine is registered internationally background see DATE iran news round up diplomacy returning from baku speaker of the iranian parliament gholamali haddad adel informed of expansion of iranianazeri cultural exchanges aftabe yazd claims iranian pilgrims to iraq who have obtained a visa at the iraqi embassy in tehran are turned back at the iraniraq border the theater of annapolis a fiasco even before convening writes mouthpiece of iranian supreme leader ayatollah ali khamnei kayhan ahmadinejad warns states not to attend senegal supports iran s nuclear program ivory coast foreign minister comes to tehran press jamal rahimiyan from the university jihad organization is appointed as chief editor of iranian student news agency isna economy and trade photo of the day                                                                                                                                                                                                                                                                                                                                                                                                                                                                                                                                                                                                                                                                                                                                                                                                                                                                                                                                                                                                                                                                                                                                                                                 661\n",
      "dear readers we are excited to announce that the voice of russia has changed its name and moved over to a new website we are now known as sputnik news agency and radio you can find all the latest stories and updates here URL please update your bookmarks and stay with us!                                                                                                                                                                                                                                                                                                                                                                                                                                                                                                                                                                                                                                                                                                                                                                                                                                                                                                                                                                                                                                                                                                                                                                                                                                                                                                                                                                                                                                                                                                                                                                                                                                                                                                                                                                                                                                                                                                                                                                                                                                                                                                                                                                                                                                                                                                                                                                                                                                                                                                                                                                                                                                                                                                                                                                                                                                                                                                                                                                                                                           217\n",
      "it looks like you re using an ad blocker please whitelist or disable abovetopsecret com in your adblocking tool thank you                                                                                                                                                                                                                                                                                                                                                                                                                                                                                                                                                                                                                                                                                                                                                                                                                                                                                                                                                                                                                                                                                                                                                                                                                                                                                                                                                                                                                                                                                                                                                                                                                                                                                                                                                                                                                                                                                                                                                                                                                                                                                                                                                                                                                                                                                                                                                                                                                                                                                                                                                                                                                                                                                                                                                                                                                                                                                                                                                                                                                                                                                                                                                                                 162\n",
      "tor tor is an encrypted anonymising network that makes it harder to intercept internet communications or see where communications are coming from or going to in order to use the wikileaks public submission system as detailed above you can download the tor browser bundle which is a firefoxlike browser available for windows mac os x and gnu/linux and preconfigured to connect using the anonymising system tor tails if you are at high risk and you have the capacity to do so you can also access the submission system through a secure operating system called tails tails is an operating system launched from a usb stick or a dvd that aim to leaves no traces when the computer is shut down after use and automatically routes your internet traffic through tor tails will require you to have either a usb stick or a dvd at least NUMgb big and a laptop or desktop computer                                                                                                                                                                                                                                                                                                                                                                                                                                                                                                                                                                                                                                                                                                                                                                                                                                                                                                                                                                                                                                                                                                                                                                                                                                                                                                                                                                                                                                                                                                                                                                                                                                                                                                                                                                                                                                                                                                                                                                                                                                                                                                                                                                                                                                                                                                                                                                                                        122\n",
      "it only takes a few moments to share an article but the person on the other end who reads it might have his life changed forever                                                                                                                                                                                                                                                                                                                                                                                                                                                                                                                                                                                                                                                                                                                                                                                                                                                                                                                                                                                                                                                                                                                                                                                                                                                                                                                                                                                                                                                                                                                                                                                                                                                                                                                                                                                                                                                                                                                                                                                                                                                                                                                                                                                                                                                                                                                                                                                                                                                                                                                                                                                                                                                                                                                                                                                                                                                                                                                                                                                                                                                                                                                                                                           76\n",
      "                                                                                                                                                                                                                                                                                                                                                                                                                                                                                                                                                                                                                                                                                                                                                                                                                                                                                                                                                                                                                                                                                                                                                                                                                                                                                                                                                                                                                                                                                                                                                                                                                                                                                                                                                                                                                                                                                                                                                                                                                                                                                                                                                                                                                                                                                                                                                                                                                                                                                                                                                                                                                                                                                                                                                                                                                                                                                                                                                                                                                                                                                                                                                                                                                                                                                                         ... \n",
      "all eyes are on notorious hampshire college located in amherst massachusetts the pioneer valley community wellknown for tolerance and social liberalism has many community members up in arms figuratively speaking over recent staff decisions and student behaviors surrounding flags following presidentelect trump s presidential win in the u s a group of students at this particular college were so displeased with the final results that their own american flag was lowered to halfstaff in an act of expression the same flag was later maliciously burned and discovered this past veteran s day the burnt flag was then replaced by staff with a new flag but later after consulting with constituents an official decision was made to remove not only the american flag but all flags in order to have a conversation about what the american flag truly represents without simultaneously flying said flag which was an apparent flagtrigger across an array of viewpoints in regard to flags on the campus during the ongoing internet and communal static that has ensued thereafter the president of hampshire college jonathan lash has insisted that the school has been …periodically flying the flag at halfstaff to mourn deaths from violence around the world… the statements made by president lash and the official facebook page of the campus both strongly imply that the flag was not lowered as a result of the election but rather as a way to generally mourn violence around the globe some outraged citizens are veterans and relatives of veterans and some are not those currently opposed to the school s and student s behavior seem to have one thing in common discontent for what they see as offensive acts and a disgrace to the democratic process and liberty that allows such a college to exist a protest has been arranged for veterans and others to show their disapproval of the school s flaglowering decision the protest will take place this coming sunday NUM/NUM chicopee veteran delfo barabani jr said in a message that the idea is to have as many people as possible carry an american flag near the hampshire campus the internet has been lively on the school s facebook page which has been swarmed by thousands of commenters posting eagle and flag stickers you may remember mention of the school when nbc s snl and thenskitcomedian jimmy fallon poked fun at how liberallyminded the campus was in a weekly skit that depicted fallon as an ignorant stoner living in an oncampus dorm it will be interesting to see how the mainstream network spins the character of this same demographic come protesttime sunday now that their narrative encompasses support for the polar opposite it will certainly be telling to witness how cable news approaches such a divided issue during a time when public confidence in mainstream news networks has reached an all time low this is of course due to distrust following wikileaks revelations that indicated many mainstream networks and broadcasters colluded with the clinton campaign to both shut down bernie sanders in the primaries and win the presidential election sic the hampshire college facebook posts concerning this matter can be read in full below       1\n",
      "china has showcased its new jNUM stealth fighter in southern guangdong province s city of zhuhai in a spectacular fly over at air show china the country s biggest meeting of aircraft makers and buyers two jNUMs china s fifthgeneration jets swept over hundreds of spectators at the show s opening ceremony in a NUMsecond flyby on tuesday the jNUM is a longrange radarevading fighter jet equipped with airtoair missiles china has reportedly already produced six prototypes of the new stealth fighter which is expected to add greatly to china s offensive and defensive capabilities bloggers have been comparing the jNUM with the us military s lockheed martin fNUM raptor ever since it was been first tested the fifthgeneration fighter resembles the fNUM raptor in terms of appearance but is equipped with a different engine according to tass news agency it is fitted with russian alNUMfmNUM turbofan engines but china reportedly plans to equip it with its own engines in the near future most of the tactical and technical characteristics of new stealth fighter have been kept secret however meanwhile china is also working on another stealth jet program the jNUM which is reported to be a chinese response to the american fNUM lightning ii china is the only country apart from the united states that has two concurrent stealth aircraft development programs going at the moment both the jNUM and jNUM programs are believed to be aimed at supporting china in taking more assertive stances in territorial disputes with its neighbors over the east and south china seas besides china only the us and russian air forces have fifth generation stealth fighters at their disposal at present                                                                                                                                                                                                                                                                                                                                                                                                                                                                                                                                                                                                                                                                                                                                                                                                                                                                                                                                                                                                                                                                                                                                                                                                                                                                                                                                                                                                                                                                                                                                                              1\n",
      "the higher you build your barriers the taller i become the farther you take my rights away the faster i will run you can deny me you can decide to…                                                                                                                                                                                                                                                                                                                                                                                                                                                                                                                                                                                                                                                                                                                                                                                                                                                                                                                                                                                                                                                                                                                                                                                                                                                                                                                                                                                                                                                                                                                                                                                                                                                                                                                                                                                                                                                                                                                                                                                                                                                                                                                                                                                                                                                                                                                                                                                                                                                                                                                                                                                                                                                                                                                                                                                                                                                                                                                                                                                                                                                                                                                                                         1\n",
      "NUMth session of un general assembly live updates URL rt live URL subscribe to rt! URL like us on facebook URL follow us on twitter URL follow us on instagram URL follow us on google+ URL listen to us on soundcloud URL rt russia today is a global news network broadcasting from moscow and washington studios rt is the first news channel to break the NUM billion youtube views benchmark                                                                                                                                                                                                                                                                                                                                                                                                                                                                                                                                                                                                                                                                                                                                                                                                                                                                                                                                                                                                                                                                                                                                                                                                                                                                                                                                                                                                                                                                                                                                                                                                                                                                                                                                                                                                                                                                                                                                                                                                                                                                                                                                                                                                                                                                                                                                                                                                                                                                                                                                                                                                                                                                                                                                                                                                                                                                                                           1\n",
      "france prepares for civil war the truth about the staged migrant invasion % of readers think this story is fact add your two cents headline bitcoin & blockchain searches exceed trump! blockchain stocks are next! nearly a year ago france experienced the worst attack in history at the hands of ? the alphabet gangs! get to know it! from that day forward europe has been absolutely demolished and taken over by refugees hiding and waiting to carry out their next attack all of this part of staged european invasion that is openly being funded by half a billion dollars or more by george soros the governments of these european countries knew full well what was going to happen once this invasion began! now comes the next step the crackdown in a civil war one placed on all the people all this openly being staged and ran by the socalled elites since the refugee crisis france has accepted NUM NUM refugees but many experts argue that number could be much higher given that many are sneaking in and out covertly nevertheless france has been experiencing many problems with refugees and it has led to officials afraid they are going to lose their country source; URL                                                                                                                                                                                                                                                                                                                                                                                                                                                                                                                                                                                                                                                                                                                                                                                                                                                                                                                                                                                                                                                                                                                                                                                                                                                                                                                                                                                                                                                                                                                                                                                                                                                                                                                                                                                                                                                                                                                                                                                                                                                                                                 1\n",
      "Name: count, Length: 17500, dtype: int64\n"
     ]
    }
   ],
   "source": [
    "# Remove NaN values\n",
    "df2['content'] = df2['content'].fillna('')\n",
    "\n",
    "# Apply the clean_text_2 function\n",
    "df2['content'] = df2['content'].apply(clean_text_2)\n",
    "\n",
    "# Check for empty strings\n",
    "print(df2['content'].value_counts())"
   ]
  },
  {
   "cell_type": "markdown",
   "metadata": {},
   "source": [
    "### Tokenizing and stop-word removal"
   ]
  },
  {
   "cell_type": "code",
   "execution_count": 170,
   "metadata": {},
   "outputs": [
    {
     "name": "stdout",
     "output_type": "stream",
     "text": [
      "      Unnamed: 0         id               domain        type  \\\n",
      "0            732  7444726.0   nationalreview.com   political   \n",
      "1           1348  6213642.0    beforeitsnews.com        fake   \n",
      "2           7119  3867639.0     dailycurrant.com      satire   \n",
      "3           1518  9560791.0          nytimes.com    reliable   \n",
      "4           9345  2059625.0  infiniteunknown.net  conspiracy   \n",
      "...          ...        ...                  ...         ...   \n",
      "19995       8050  4931949.0            pravda.ru        bias   \n",
      "19996       4387  8463446.0          nytimes.com    reliable   \n",
      "19997        662  7274765.0   nationalreview.com   political   \n",
      "19998       1599  4305464.0    beforeitsnews.com        fake   \n",
      "19999         97    22509.0    beforeitsnews.com        fake   \n",
      "\n",
      "                                                     url  \\\n",
      "0      http://www.nationalreview.com/node/152734/%E2%...   \n",
      "1      http://beforeitsnews.com/economy/2012/06/the-c...   \n",
      "2      http://dailycurrant.com/2016/01/18/man-awoken-...   \n",
      "3      https://query.nytimes.com/gst/fullpage.html?re...   \n",
      "4      http://www.infiniteunknown.net/2011/09/14/100-...   \n",
      "...                                                  ...   \n",
      "19995  https://www.pravda.ru/politics/military/defenc...   \n",
      "19996  https://www.nytimes.com/2001/05/24/nyregion/a-...   \n",
      "19997  http://www.nationalreview.com/node/152734/%E2%...   \n",
      "19998  http://beforeitsnews.com/african-american-news...   \n",
      "19999  http://beforeitsnews.com/blogging-citizen-jour...   \n",
      "\n",
      "                                                 content  \\\n",
      "0      plus one article on google plus thanks to ali ...   \n",
      "1      the cost of the best senate banking committee ...   \n",
      "2      man awoken from NUMyear coma commits suicide a...   \n",
      "3      when julia geist was asked to draw a picture o...   \n",
      "4      – NUM compiled studies on vaccine dangers acti...   \n",
      "...                                                  ...   \n",
      "19995  россия америка сохраняется ли паритет? NUM лет...   \n",
      "19996  walter s parents his mother is a housekeeper a...   \n",
      "19997  plus one article on google plus thanks to ali ...   \n",
      "19998  people over profits! jasiri x supports workers...   \n",
      "19999  france prepares for civil war the truth about ...   \n",
      "\n",
      "                       scraped_at                 inserted_at  \\\n",
      "0      2017-11-27T01:14:42.983556  2018-02-08 19:18:34.468038   \n",
      "1        2017-11-27T01:14:08.7454  2018-02-08 19:18:34.468038   \n",
      "2      2017-11-27T01:14:21.395055  2018-02-07 23:39:33.852671   \n",
      "3      2018-02-11 00:46:42.632962  2018-02-11 00:14:20.346838   \n",
      "4      2017-11-10T11:18:44.524042  2018-02-07 23:39:33.852671   \n",
      "...                           ...                         ...   \n",
      "19995  2017-11-27T01:15:02.476695  2018-02-07 23:39:33.852671   \n",
      "19996  2018-02-11 00:35:56.562488  2018-02-11 00:14:20.346838   \n",
      "19997  2017-11-27T01:14:42.983556  2018-02-08 19:18:34.468038   \n",
      "19998    2017-11-27T01:14:08.7454  2018-02-07 23:39:33.852671   \n",
      "19999  2018-01-25 16:17:44.789555  2018-02-02 01:19:41.756632   \n",
      "\n",
      "                       updated_at  \\\n",
      "0      2018-02-08 19:18:34.468066   \n",
      "1      2018-02-08 19:18:34.468066   \n",
      "2      2018-02-07 23:39:33.852696   \n",
      "3      2018-02-11 00:14:20.346871   \n",
      "4      2018-02-07 23:39:33.852696   \n",
      "...                           ...   \n",
      "19995  2018-02-07 23:39:33.852696   \n",
      "19996  2018-02-11 00:14:20.346871   \n",
      "19997  2018-02-08 19:18:34.468066   \n",
      "19998  2018-02-07 23:39:33.852696   \n",
      "19999  2018-02-02 01:19:41.756664   \n",
      "\n",
      "                                                   title  \\\n",
      "0                                     Iran News Round Up   \n",
      "1      The Cost Of The Best Senate Banking Committee ...   \n",
      "2      Man Awoken From 27-Year Coma Commits Suicide A...   \n",
      "3      Opening a Gateway for Girls to Enter the Compu...   \n",
      "4      100 Compiled Studies on Vaccine Dangers – Infi...   \n",
      "...                                                  ...   \n",
      "19995          Россия - Америка: сохраняется ли паритет?   \n",
      "19996  A Boy's Slaying Resonates in a Bedroom City of...   \n",
      "19997                                 Iran News Round Up   \n",
      "19998  People Over Profits! Jasiri X supports workers...   \n",
      "19999  France Prepares for Civil War, The Truth About...   \n",
      "\n",
      "                                                 authors  keywords  \\\n",
      "0                                                    NaN       NaN   \n",
      "1                                                    NaN       NaN   \n",
      "2                                                    NaN       NaN   \n",
      "3                                                    NaN       NaN   \n",
      "4                                                    NaN       NaN   \n",
      "...                                                  ...       ...   \n",
      "19995  Антон Куликов, Александр Артамонов, Руслан Вес...       NaN   \n",
      "19996                       Andrew Jacobs, Robert Hanley       NaN   \n",
      "19997                                                NaN       NaN   \n",
      "19998                             Brother Jesse Muhammad       NaN   \n",
      "19999                                 Paranormal Stories       NaN   \n",
      "\n",
      "                                           meta_keywords  \\\n",
      "0      ['National Review', 'National Review Online', ...   \n",
      "1                                                   ['']   \n",
      "2                                                   ['']   \n",
      "3      ['Computers and the Internet', 'Women and Girl...   \n",
      "4                                                   ['']   \n",
      "...                                                  ...   \n",
      "19995                                               ['']   \n",
      "19996  ['MORRISTOWN (NJ)', 'VALENZUELA  WALTER', 'ILL...   \n",
      "19997  ['National Review', 'National Review Online', ...   \n",
      "19998                                               ['']   \n",
      "19999                                               ['']   \n",
      "\n",
      "                                        meta_description  \\\n",
      "0                                                    NaN   \n",
      "1                                                    NaN   \n",
      "2                                                    NaN   \n",
      "3      WHEN Julia Geist was asked to draw a picture o...   \n",
      "4                                                    NaN   \n",
      "...                                                  ...   \n",
      "19995  50 лет назад произошло одно весьма примечатель...   \n",
      "19996  Morris County, NJ, authorities appeal to Hispa...   \n",
      "19997                                                NaN   \n",
      "19998                                                NaN   \n",
      "19999                                                NaN   \n",
      "\n",
      "                                                    tags  summary   source  \n",
      "0                                                    NaN      NaN      NaN  \n",
      "1                                                    NaN      NaN      NaN  \n",
      "2                                                    NaN      NaN      NaN  \n",
      "3                                                    NaN      NaN  nytimes  \n",
      "4      Lymphoma, Hepatitis B, Immune System, Health, ...      NaN      NaN  \n",
      "...                                                  ...      ...      ...  \n",
      "19995                                                NaN      NaN      NaN  \n",
      "19996                                                NaN      NaN  nytimes  \n",
      "19997                                                NaN      NaN      NaN  \n",
      "19998                                                NaN      NaN      NaN  \n",
      "19999                                                NaN      NaN      NaN  \n",
      "\n",
      "[20000 rows x 17 columns]\n",
      "size = 186184\n"
     ]
    },
    {
     "data": {
      "text/plain": [
       "0        [plus, one, article, google, plus, thanks, ali...\n",
       "1        [cost, best, senate, banking, committee, jp, m...\n",
       "2        [man, awoken, NUMyear, coma, commits, suicide,...\n",
       "3        [julia, geist, asked, draw, picture, computer,...\n",
       "4        [–, NUM, compiled, studies, vaccine, dangers, ...\n",
       "                               ...                        \n",
       "19995    [россия, америка, сохраняется, ли, паритет, ?,...\n",
       "19996    [walter, parents, mother, housekeeper, westin,...\n",
       "19997    [plus, one, article, google, plus, thanks, ali...\n",
       "19998    [people, profits, !, jasiri, x, supports, work...\n",
       "19999    [france, prepares, civil, war, truth, staged, ...\n",
       "Name: tokens, Length: 20000, dtype: object"
      ]
     },
     "execution_count": 170,
     "metadata": {},
     "output_type": "execute_result"
    }
   ],
   "source": [
    "print(df2)\n",
    "\n",
    "tokens = df2['content'].apply(nltk.word_tokenize).rename('tokens')\n",
    "tokens = tokens.apply(filter_stopwords)\n",
    "\n",
    "print(f'size = {vocab_size_2(tokens)}')\n",
    "tokens"
   ]
  },
  {
   "cell_type": "markdown",
   "metadata": {},
   "source": [
    "### Stemming"
   ]
  },
  {
   "cell_type": "code",
   "execution_count": 171,
   "metadata": {},
   "outputs": [
    {
     "name": "stdout",
     "output_type": "stream",
     "text": [
      "size = 151989\n"
     ]
    },
    {
     "data": {
      "text/plain": [
       "0        [plu, one, articl, googl, plu, thank, ali, alf...\n",
       "1        [cost, best, senat, bank, committe, jp, morgan...\n",
       "2        [man, awoken, numyear, coma, commit, suicid, l...\n",
       "3        [julia, geist, ask, draw, pictur, comput, scie...\n",
       "4        [–, num, compil, studi, vaccin, danger, activi...\n",
       "                               ...                        \n",
       "19995    [россия, америка, сохраняется, ли, паритет, ?,...\n",
       "19996    [walter, parent, mother, housekeep, westin, ho...\n",
       "19997    [plu, one, articl, googl, plu, thank, ali, alf...\n",
       "19998    [peopl, profit, !, jasiri, x, support, worker,...\n",
       "19999    [franc, prepar, civil, war, truth, stage, migr...\n",
       "Name: stems, Length: 20000, dtype: object"
      ]
     },
     "execution_count": 171,
     "metadata": {},
     "output_type": "execute_result"
    }
   ],
   "source": [
    "stems = tokens.apply(stem).rename('stems')\n",
    "print(f'size = {vocab_size_2(stems)}')\n",
    "stems"
   ]
  },
  {
   "cell_type": "markdown",
   "metadata": {},
   "source": [
    "### Reduction rate"
   ]
  },
  {
   "cell_type": "code",
   "execution_count": 172,
   "metadata": {},
   "outputs": [
    {
     "name": "stdout",
     "output_type": "stream",
     "text": [
      "Stemming reduced the vocabulary by 18.37 %\n",
      "(20000, 17)\n"
     ]
    }
   ],
   "source": [
    "reduction_rate = ((vocab_size_2(tokens) - vocab_size_2(stems)) / vocab_size_2(tokens)*100)\n",
    "print(\"Stemming reduced the vocabulary by\", round(reduction_rate,2), \"%\")\n",
    "\n",
    "print(df2.shape)"
   ]
  },
  {
   "cell_type": "markdown",
   "metadata": {},
   "source": [
    "### Data exploration"
   ]
  },
  {
   "cell_type": "code",
   "execution_count": 173,
   "metadata": {},
   "outputs": [],
   "source": [
    "\n",
    "def url_count(series):\n",
    "    return series.str.count('URL').rename('url_count')\n",
    "\n",
    "def date_count(series):\n",
    "    return series.str.count('DATE').rename('date_count')\n",
    "\n",
    "def num_count(series):\n",
    "    return series.str.count('NUM').rename('num_count')\n",
    "\n",
    "def total_words(series):\n",
    "    return series.apply(lambda x: len(x.split()) if isinstance(x, str) else 0).rename('total_words')\n",
    "\n",
    "def mean_word_length(series):\n",
    "    return series.apply(lambda x: sum(len(word) for word in x.split()) / len(x.split()) if isinstance(x, str) and len(x.split()) > 0 else 0).rename('mean_word_length')\n",
    "\n",
    "\n",
    "def unique_words_ratio(series):\n",
    "    def calculate_ratio(text):\n",
    "        if isinstance(text, str):\n",
    "            words = text.split()\n",
    "            total_words = len(words)\n",
    "            unique_words = len(set(words))\n",
    "            return unique_words / total_words if total_words > 0 else 0.0\n",
    "        return 0.0\n",
    "    \n",
    "    return series.apply(calculate_ratio).rename('unique_words_ratio')\n",
    "\n",
    "def has_author_binary(series):\n",
    "    return series.apply(lambda x: 1 if isinstance(x, str) and x.strip() else 0).rename(\"has_author\")\n",
    "\n",
    "\n",
    "\n"
   ]
  },
  {
   "cell_type": "markdown",
   "metadata": {},
   "source": [
    "### Adding Statistics to Dataframe"
   ]
  },
  {
   "cell_type": "code",
   "execution_count": 174,
   "metadata": {},
   "outputs": [
    {
     "name": "stdout",
     "output_type": "stream",
     "text": [
      "      Unnamed: 0         id               domain        type  \\\n",
      "0            732  7444726.0   nationalreview.com   political   \n",
      "1           1348  6213642.0    beforeitsnews.com        fake   \n",
      "2           7119  3867639.0     dailycurrant.com      satire   \n",
      "3           1518  9560791.0          nytimes.com    reliable   \n",
      "4           9345  2059625.0  infiniteunknown.net  conspiracy   \n",
      "...          ...        ...                  ...         ...   \n",
      "19995       8050  4931949.0            pravda.ru        bias   \n",
      "19996       4387  8463446.0          nytimes.com    reliable   \n",
      "19997        662  7274765.0   nationalreview.com   political   \n",
      "19998       1599  4305464.0    beforeitsnews.com        fake   \n",
      "19999         97    22509.0    beforeitsnews.com        fake   \n",
      "\n",
      "                                                     url  \\\n",
      "0      http://www.nationalreview.com/node/152734/%E2%...   \n",
      "1      http://beforeitsnews.com/economy/2012/06/the-c...   \n",
      "2      http://dailycurrant.com/2016/01/18/man-awoken-...   \n",
      "3      https://query.nytimes.com/gst/fullpage.html?re...   \n",
      "4      http://www.infiniteunknown.net/2011/09/14/100-...   \n",
      "...                                                  ...   \n",
      "19995  https://www.pravda.ru/politics/military/defenc...   \n",
      "19996  https://www.nytimes.com/2001/05/24/nyregion/a-...   \n",
      "19997  http://www.nationalreview.com/node/152734/%E2%...   \n",
      "19998  http://beforeitsnews.com/african-american-news...   \n",
      "19999  http://beforeitsnews.com/blogging-citizen-jour...   \n",
      "\n",
      "                                                 content  \\\n",
      "0      plus one article on google plus thanks to ali ...   \n",
      "1      the cost of the best senate banking committee ...   \n",
      "2      man awoken from NUMyear coma commits suicide a...   \n",
      "3      when julia geist was asked to draw a picture o...   \n",
      "4      – NUM compiled studies on vaccine dangers acti...   \n",
      "...                                                  ...   \n",
      "19995  россия америка сохраняется ли паритет? NUM лет...   \n",
      "19996  walter s parents his mother is a housekeeper a...   \n",
      "19997  plus one article on google plus thanks to ali ...   \n",
      "19998  people over profits! jasiri x supports workers...   \n",
      "19999  france prepares for civil war the truth about ...   \n",
      "\n",
      "                       scraped_at                 inserted_at  \\\n",
      "0      2017-11-27T01:14:42.983556  2018-02-08 19:18:34.468038   \n",
      "1        2017-11-27T01:14:08.7454  2018-02-08 19:18:34.468038   \n",
      "2      2017-11-27T01:14:21.395055  2018-02-07 23:39:33.852671   \n",
      "3      2018-02-11 00:46:42.632962  2018-02-11 00:14:20.346838   \n",
      "4      2017-11-10T11:18:44.524042  2018-02-07 23:39:33.852671   \n",
      "...                           ...                         ...   \n",
      "19995  2017-11-27T01:15:02.476695  2018-02-07 23:39:33.852671   \n",
      "19996  2018-02-11 00:35:56.562488  2018-02-11 00:14:20.346838   \n",
      "19997  2017-11-27T01:14:42.983556  2018-02-08 19:18:34.468038   \n",
      "19998    2017-11-27T01:14:08.7454  2018-02-07 23:39:33.852671   \n",
      "19999  2018-01-25 16:17:44.789555  2018-02-02 01:19:41.756632   \n",
      "\n",
      "                       updated_at  \\\n",
      "0      2018-02-08 19:18:34.468066   \n",
      "1      2018-02-08 19:18:34.468066   \n",
      "2      2018-02-07 23:39:33.852696   \n",
      "3      2018-02-11 00:14:20.346871   \n",
      "4      2018-02-07 23:39:33.852696   \n",
      "...                           ...   \n",
      "19995  2018-02-07 23:39:33.852696   \n",
      "19996  2018-02-11 00:14:20.346871   \n",
      "19997  2018-02-08 19:18:34.468066   \n",
      "19998  2018-02-07 23:39:33.852696   \n",
      "19999  2018-02-02 01:19:41.756664   \n",
      "\n",
      "                                                   title  \\\n",
      "0                                     Iran News Round Up   \n",
      "1      The Cost Of The Best Senate Banking Committee ...   \n",
      "2      Man Awoken From 27-Year Coma Commits Suicide A...   \n",
      "3      Opening a Gateway for Girls to Enter the Compu...   \n",
      "4      100 Compiled Studies on Vaccine Dangers – Infi...   \n",
      "...                                                  ...   \n",
      "19995          Россия - Америка: сохраняется ли паритет?   \n",
      "19996  A Boy's Slaying Resonates in a Bedroom City of...   \n",
      "19997                                 Iran News Round Up   \n",
      "19998  People Over Profits! Jasiri X supports workers...   \n",
      "19999  France Prepares for Civil War, The Truth About...   \n",
      "\n",
      "                                                 authors  keywords  \\\n",
      "0                                                    NaN       NaN   \n",
      "1                                                    NaN       NaN   \n",
      "2                                                    NaN       NaN   \n",
      "3                                                    NaN       NaN   \n",
      "4                                                    NaN       NaN   \n",
      "...                                                  ...       ...   \n",
      "19995  Антон Куликов, Александр Артамонов, Руслан Вес...       NaN   \n",
      "19996                       Andrew Jacobs, Robert Hanley       NaN   \n",
      "19997                                                NaN       NaN   \n",
      "19998                             Brother Jesse Muhammad       NaN   \n",
      "19999                                 Paranormal Stories       NaN   \n",
      "\n",
      "                                           meta_keywords  \\\n",
      "0      ['National Review', 'National Review Online', ...   \n",
      "1                                                   ['']   \n",
      "2                                                   ['']   \n",
      "3      ['Computers and the Internet', 'Women and Girl...   \n",
      "4                                                   ['']   \n",
      "...                                                  ...   \n",
      "19995                                               ['']   \n",
      "19996  ['MORRISTOWN (NJ)', 'VALENZUELA  WALTER', 'ILL...   \n",
      "19997  ['National Review', 'National Review Online', ...   \n",
      "19998                                               ['']   \n",
      "19999                                               ['']   \n",
      "\n",
      "                                        meta_description  \\\n",
      "0                                                    NaN   \n",
      "1                                                    NaN   \n",
      "2                                                    NaN   \n",
      "3      WHEN Julia Geist was asked to draw a picture o...   \n",
      "4                                                    NaN   \n",
      "...                                                  ...   \n",
      "19995  50 лет назад произошло одно весьма примечатель...   \n",
      "19996  Morris County, NJ, authorities appeal to Hispa...   \n",
      "19997                                                NaN   \n",
      "19998                                                NaN   \n",
      "19999                                                NaN   \n",
      "\n",
      "                                                    tags  summary   source  \n",
      "0                                                    NaN      NaN      NaN  \n",
      "1                                                    NaN      NaN      NaN  \n",
      "2                                                    NaN      NaN      NaN  \n",
      "3                                                    NaN      NaN  nytimes  \n",
      "4      Lymphoma, Hepatitis B, Immune System, Health, ...      NaN      NaN  \n",
      "...                                                  ...      ...      ...  \n",
      "19995                                                NaN      NaN      NaN  \n",
      "19996                                                NaN      NaN  nytimes  \n",
      "19997                                                NaN      NaN      NaN  \n",
      "19998                                                NaN      NaN      NaN  \n",
      "19999                                                NaN      NaN      NaN  \n",
      "\n",
      "[20000 rows x 17 columns]\n",
      "Index(['Unnamed: 0', 'id', 'domain', 'type', 'url', 'content', 'scraped_at',\n",
      "       'inserted_at', 'updated_at', 'title', 'authors', 'keywords',\n",
      "       'meta_keywords', 'meta_description', 'tags', 'summary', 'source',\n",
      "       'url_count', 'date_count', 'num_count', 'total_words',\n",
      "       'mean_word_length', 'unique_words_ratio', 'has_author'],\n",
      "      dtype='object')\n",
      "(20000, 24)\n"
     ]
    }
   ],
   "source": [
    "'''\n",
    "# Gather statistics from articles\n",
    "count_urls =url_count(df2['content'])\n",
    "count_dates = date_count(df2['content'])\n",
    "count_numbers = num_count(df2['content'])\n",
    "count_words = total_words(df2['content'])\n",
    "word_length = mean_word_length(df2['content'])\n",
    "unique_ratio = unique_words_ratio(df2['content'])\n",
    "has_author = has_author_binary(df2['content'])\n",
    "\n",
    "\n",
    "print(count_urls.size)\n",
    "print(count_dates.size)\n",
    "print(count_numbers.size)\n",
    "print(count_words.size)\n",
    "print(word_length.size)\n",
    "print(unique_ratio.size)\n",
    "print(has_author.size)\n",
    "print(count_urls.size)\n",
    "print(tokens.size)\n",
    "print(stems.size)\n",
    "\n",
    "# Combine these into a DataFrame\n",
    "new_df = pd.concat(\n",
    "[tokens,\n",
    "stems,\n",
    "count_urls,\n",
    "count_dates,\n",
    "count_numbers,\n",
    "count_words,\n",
    "word_length,\n",
    "unique_ratio,\n",
    "has_author],\n",
    "axis=1)\n",
    "\n",
    "# Tag onto the original file\n",
    "df2 = pd.concat([df2,new_df], axis=1)\n",
    "\n",
    "# Avoid duplicated columns, if applicable\n",
    "df2 = df2.loc[:, ~df2.columns.duplicated(keep='last')]\n",
    "\n",
    "\n",
    "print(df2.columns)\n",
    "\n",
    "print(df2.shape)'''\n",
    "\n",
    "print(df2)\n",
    "import pandas as pd\n",
    "\n",
    "# Assuming df2 is your original DataFrame and your series creation functions are defined.\n",
    "\n",
    "# Create the series\n",
    "count_urls = url_count(df2['content'])\n",
    "count_dates = date_count(df2['content'])\n",
    "count_numbers = num_count(df2['content'])\n",
    "count_words = total_words(df2['content'])\n",
    "word_length = mean_word_length(df2['content'])\n",
    "unique_ratio = unique_words_ratio(df2['content'])\n",
    "has_author = has_author_binary(df2['content'])\n",
    "\n",
    "#Make sure index is the same.\n",
    "count_urls.index = df2.index\n",
    "count_dates.index = df2.index\n",
    "count_numbers.index = df2.index\n",
    "count_words.index = df2.index\n",
    "word_length.index = df2.index\n",
    "unique_ratio.index = df2.index\n",
    "has_author.index = df2.index\n",
    "\n",
    "# Combine into a DataFrame\n",
    "new_df = pd.concat(\n",
    "    [\n",
    "        count_urls,\n",
    "        count_dates,\n",
    "        count_numbers,\n",
    "        count_words,\n",
    "        word_length,\n",
    "        unique_ratio,\n",
    "        has_author,\n",
    "    ],\n",
    "    axis=1,\n",
    ")\n",
    "\n",
    "# Tag onto the original file\n",
    "df2 = pd.concat([df2, new_df], axis=1)\n",
    "\n",
    "# Avoid duplicated columns, if applicable\n",
    "df2 = df2.loc[:, ~df2.columns.duplicated(keep='last')]\n",
    "\n",
    "print(df2.columns)\n",
    "print(df2.shape)\n"
   ]
  },
  {
   "cell_type": "markdown",
   "metadata": {},
   "source": [
    "### Word Frequencies"
   ]
  },
  {
   "cell_type": "code",
   "execution_count": 175,
   "metadata": {},
   "outputs": [],
   "source": [
    "def most_frequent_words(series, top_n=10000):\n",
    "    # Flatten words from both lists and strings\n",
    "    all_words = [\n",
    "        word\n",
    "        for entry in series\n",
    "        if isinstance(entry, (list, str))\n",
    "        for word in (entry if isinstance(entry, list) else entry.split())\n",
    "    ]\n",
    "    word_counts = Counter(all_words)\n",
    "    # Return the most common words as a dictionary\n",
    "    return dict(word_counts.most_common(top_n))"
   ]
  },
  {
   "cell_type": "code",
   "execution_count": 176,
   "metadata": {},
   "outputs": [
    {
     "ename": "KeyError",
     "evalue": "'num'",
     "output_type": "error",
     "traceback": [
      "\u001b[0;31m---------------------------------------------------------------------------\u001b[0m",
      "\u001b[0;31mKeyError\u001b[0m                                  Traceback (most recent call last)",
      "Cell \u001b[0;32mIn[176], line 3\u001b[0m\n\u001b[1;32m      1\u001b[0m \u001b[38;5;66;03m# Find the frequent words before stemming\u001b[39;00m\n\u001b[1;32m      2\u001b[0m most_frequent_100_raw \u001b[38;5;241m=\u001b[39m most_frequent_words(df2[\u001b[38;5;124m'\u001b[39m\u001b[38;5;124mcontent\u001b[39m\u001b[38;5;124m'\u001b[39m],\u001b[38;5;241m100\u001b[39m)\n\u001b[0;32m----> 3\u001b[0m \u001b[43mmost_frequent_100_raw\u001b[49m\u001b[38;5;241;43m.\u001b[39;49m\u001b[43mpop\u001b[49m\u001b[43m(\u001b[49m\u001b[38;5;124;43m\"\u001b[39;49m\u001b[38;5;124;43mnum\u001b[39;49m\u001b[38;5;124;43m\"\u001b[39;49m\u001b[43m)\u001b[49m\n\u001b[1;32m      4\u001b[0m most_frequent_10000_raw \u001b[38;5;241m=\u001b[39m most_frequent_words(df2[\u001b[38;5;124m'\u001b[39m\u001b[38;5;124mcontent\u001b[39m\u001b[38;5;124m'\u001b[39m],\u001b[38;5;241m10000\u001b[39m)\n\u001b[1;32m      5\u001b[0m most_frequent_10000_raw\u001b[38;5;241m.\u001b[39mpop(\u001b[38;5;124m\"\u001b[39m\u001b[38;5;124mnum\u001b[39m\u001b[38;5;124m\"\u001b[39m)\n",
      "\u001b[0;31mKeyError\u001b[0m: 'num'"
     ]
    }
   ],
   "source": [
    "# Find the frequent words before stemming\n",
    "most_frequent_100_raw = most_frequent_words(df2['content'],100)\n",
    "most_frequent_100_raw.pop(\"num\")\n",
    "most_frequent_10000_raw = most_frequent_words(df2['content'],10000)\n",
    "most_frequent_10000_raw.pop(\"num\")\n",
    "\n",
    "\n",
    "# The most frequent words after stemming \n",
    "most_frequent_100_stem = most_frequent_words(stems,100)\n",
    "most_frequent_100_stem.pop(\"num\")\n",
    "most_frequent_10000_stem = most_frequent_words(stems,10000)\n",
    "most_frequent_10000_stem.pop(\"num\")\n",
    "\n",
    "\n"
   ]
  },
  {
   "cell_type": "markdown",
   "metadata": {},
   "source": [
    "### Word Frequency Plots"
   ]
  },
  {
   "cell_type": "code",
   "execution_count": null,
   "metadata": {},
   "outputs": [],
   "source": [
    "def plot_word_frequencies(word_freq_dict):\n",
    "    # Extract words and their frequencies\n",
    "    words = list(word_freq_dict.keys())\n",
    "    frequencies = list(word_freq_dict.values())\n",
    "    \n",
    "    # Create the plot\n",
    "    plt.figure(figsize=(10, 4))\n",
    "    plt.bar(words, frequencies, color='skyblue')\n",
    "    plt.xlabel('Words')\n",
    "    plt.ylabel('Frequency')\n",
    "    plt.title('Word Frequencies')\n",
    "    plt.xticks(ticks=range(len(words)), labels=[])\n",
    "    plt.ylim(0, max(frequencies)*7/10+500)  # Add some padding to the y-axis\n",
    "    plt.xlim(0, len(words)/6)   # Center bars on x-ticks\n",
    "    plt.tight_layout()\n",
    "    plt.show()\n",
    "\n",
    "    \n",
    "\n"
   ]
  },
  {
   "cell_type": "code",
   "execution_count": null,
   "metadata": {},
   "outputs": [
    {
     "data": {
      "image/png": "[encoded data removed]",
      "text/plain": [
       "<Figure size 1000x400 with 1 Axes>"
      ]
     },
     "metadata": {},
     "output_type": "display_data"
    },
    {
     "data": {
      "image/png": "[encoded data removed]",
      "text/plain": [
       "<Figure size 1000x400 with 1 Axes>"
      ]
     },
     "metadata": {},
     "output_type": "display_data"
    }
   ],
   "source": [
    "plot_word_frequencies(most_frequent_100_raw)\n",
    "plot_word_frequencies(most_frequent_10000_raw)"
   ]
  },
  {
   "cell_type": "code",
   "execution_count": null,
   "metadata": {},
   "outputs": [
    {
     "data": {
      "image/png": "[encoded data removed]",
      "text/plain": [
       "<Figure size 1000x400 with 1 Axes>"
      ]
     },
     "metadata": {},
     "output_type": "display_data"
    },
    {
     "data": {
      "image/png": "[encoded data removed]",
      "text/plain": [
       "<Figure size 1000x400 with 1 Axes>"
      ]
     },
     "metadata": {},
     "output_type": "display_data"
    }
   ],
   "source": [
    "plot_word_frequencies(most_frequent_100_stem)\n",
    "plot_word_frequencies(most_frequent_10000_stem)"
   ]
  },
  {
   "cell_type": "markdown",
   "metadata": {},
   "source": [
    "### Separating target values"
   ]
  },
  {
   "cell_type": "code",
   "execution_count": null,
   "metadata": {},
   "outputs": [
    {
     "name": "stdout",
     "output_type": "stream",
     "text": [
      "457368\n",
      "Index(['Unnamed: 0', 'id', 'domain', 'url', 'content', 'scraped_at',\n",
      "       'inserted_at', 'updated_at', 'title', 'authors', 'keywords',\n",
      "       'meta_keywords', 'meta_description', 'tags', 'summary', 'source',\n",
      "       'url_count', 'date_count', 'num_count', 'total_words',\n",
      "       'mean_word_length', 'unique_words_ratio', 'has_author', 'stems'],\n",
      "      dtype='object')\n",
      "(19057, 24)\n"
     ]
    }
   ],
   "source": [
    "X = df2.drop(columns=['type'])\n",
    "X['stems'] = stems\n",
    "#X['stems'] = pd.Series(stems, index=df3.index)\n",
    "y = df2['type'].dropna()\n",
    "X = X.loc[y.index]  # Align X with y\n",
    "\n",
    "print(X.size)\n",
    "# Convert 'type' to binary values\n",
    "y = y.apply(lambda x: 1 if x == 'reliable' else 0).rename(y.name)\n",
    "\n",
    "print(X.columns)\n",
    "print(X.shape)\n",
    "\n"
   ]
  },
  {
   "cell_type": "markdown",
   "metadata": {},
   "source": [
    "### Splitting"
   ]
  },
  {
   "cell_type": "code",
   "execution_count": 231,
   "metadata": {},
   "outputs": [
    {
     "name": "stdout",
     "output_type": "stream",
     "text": [
      "Train rows: 15245\n",
      "Validation rows: 1906\n",
      "Test rows: 1906\n"
     ]
    }
   ],
   "source": [
    "X_train, X_temp, y_train, y_temp = train_test_split(X, y, test_size=0.2, random_state=0,stratify=y)\n",
    "X_val, X_test, y_val, y_test = train_test_split(X_temp, y_temp, test_size=0.5, random_state=0,stratify=y_temp)\n",
    "\n",
    "# Count rows directly for each DataFrame\n",
    "train_data_count = X_train.shape[0]\n",
    "val_data_count = X_val.shape[0]\n",
    "test_data_count = X_test.shape[0]\n",
    "\n",
    "print(\"Train rows:\", train_data_count)\n",
    "print(\"Validation rows:\", val_data_count)\n",
    "print(\"Test rows:\", test_data_count)\n"
   ]
  },
  {
   "cell_type": "markdown",
   "metadata": {},
   "source": [
    "## Part 2: Logistic regression"
   ]
  },
  {
   "cell_type": "markdown",
   "metadata": {},
   "source": [
    "### Feature Creation"
   ]
  },
  {
   "cell_type": "code",
   "execution_count": 232,
   "metadata": {},
   "outputs": [],
   "source": [
    "\n",
    "# Creating word feature vector for each article\n",
    "\n",
    "def create_word_features(stems_series, vocabulary):\n",
    "    \"\"\"Takes a pandas series of stemmed word lists and a vocabulary\n",
    "        and returns a pandas dataframe of one-hot encoded word lists.\n",
    "\n",
    "        Input: stem_series: pd.Series list str\n",
    "        vocabulary: string dict\n",
    "        \n",
    "        Output: string dict\n",
    "    \"\"\"\n",
    "    features = []\n",
    "    for stems in stems_series:\n",
    "        article_features = {word: 0 for word in vocabulary}\n",
    "        if isinstance(stems, list):\n",
    "            for word in stems:\n",
    "                if word in vocabulary:\n",
    "                    article_features[word] += 1\n",
    "        features.append(list(article_features.values()))\n",
    "    return pd.DataFrame(features, columns=vocabulary.keys())\n",
    "\n"
   ]
  },
  {
   "cell_type": "markdown",
   "metadata": {},
   "source": [
    "### Logistic Model v1"
   ]
  },
  {
   "cell_type": "code",
   "execution_count": 233,
   "metadata": {},
   "outputs": [],
   "source": [
    "# Training and testing the logistic regression model\n",
    "\n",
    "def train_logistic_regression_with_vocabulary(X_train, X_val, X_test, y_train, y_val, y_test):\n",
    "    \n",
    "    # Create Vocabulary\n",
    "    vocabulary = most_frequent_words(X_train['stems'])\n",
    "\n",
    "    # Create Features\n",
    "    X_train_features = create_word_features(X_train['stems'], vocabulary)\n",
    "    X_val_features = create_word_features(X_val['stems'], vocabulary)\n",
    "    X_test_features = create_word_features(X_test['stems'], vocabulary)\n",
    "\n",
    "    # Train Logistic Regression\n",
    "    model = LogisticRegression(solver='liblinear', random_state=0)\n",
    "    model.fit(X_train_features, y_train)\n",
    "\n",
    "    # Evaluate\n",
    "    y_pred = model.predict(X_test_features)\n",
    "    f1 = f1_score(y_test, y_pred)\n",
    "    report = classification_report(y_test, y_pred)\n",
    "\n",
    "    print(f\"F1 Score: {round(f1,3)}\\n\")\n",
    "    print(\"Classification Report:\\n\", report)\n",
    "\n",
    "    return model\n"
   ]
  },
  {
   "cell_type": "markdown",
   "metadata": {},
   "source": [
    "### Results"
   ]
  },
  {
   "cell_type": "code",
   "execution_count": null,
   "metadata": {},
   "outputs": [
    {
     "name": "stdout",
     "output_type": "stream",
     "text": [
      "Index(['Unnamed: 0', 'id', 'domain', 'url', 'content', 'scraped_at',\n",
      "       'inserted_at', 'updated_at', 'title', 'authors', 'keywords',\n",
      "       'meta_keywords', 'meta_description', 'tags', 'summary', 'source',\n",
      "       'url_count', 'date_count', 'num_count', 'total_words',\n",
      "       'mean_word_length', 'unique_words_ratio', 'has_author', 'stems'],\n",
      "      dtype='object')\n"
     ]
    },
    {
     "name": "stderr",
     "output_type": "stream",
     "text": [
      "/opt/miniconda3/lib/python3.12/site-packages/sklearn/svm/_base.py:1235: ConvergenceWarning: Liblinear failed to converge, increase the number of iterations.\n",
      "  warnings.warn(\n"
     ]
    },
    {
     "name": "stdout",
     "output_type": "stream",
     "text": [
      "F1 Score: 0.799\n",
      "\n",
      "Classification Report:\n",
      "               precision    recall  f1-score   support\n",
      "\n",
      "           0       0.93      0.96      0.95      1477\n",
      "           1       0.86      0.75      0.80       429\n",
      "\n",
      "    accuracy                           0.92      1906\n",
      "   macro avg       0.89      0.86      0.87      1906\n",
      "weighted avg       0.91      0.92      0.91      1906\n",
      "\n"
     ]
    }
   ],
   "source": [
    "\n",
    "print(X_train.columns)\n",
    "\n",
    "model1 = train_logistic_regression_with_vocabulary(X_train, X_val, X_test, y_train, y_val, y_test)\n",
    "\n"
   ]
  },
  {
   "cell_type": "markdown",
   "metadata": {},
   "source": [
    "### Logistic Model v2"
   ]
  },
  {
   "cell_type": "code",
   "execution_count": 234,
   "metadata": {},
   "outputs": [],
   "source": [
    "def train_logistic_regression_additional_features(X_train, X_val, X_test, y_train, y_val, y_test):\n",
    "    \n",
    "    # Create Vocabulary\n",
    "    vocabulary = most_frequent_words(X_train['stems'])\n",
    "\n",
    "    # Create Features from Vocabulary\n",
    "    X_train_features = create_word_features(X_train['stems'], vocabulary)\n",
    "    X_val_features = create_word_features(X_val['stems'], vocabulary)\n",
    "    X_test_features = create_word_features(X_test['stems'], vocabulary)\n",
    "\n",
    "    # Add additional features\n",
    "    \n",
    "    X_train_temp = pd.DataFrame(\n",
    "        {\n",
    "            'num_count': X_train['num_count'].values,\n",
    "            'url_count': X_train['url_count'].values\n",
    "        },\n",
    "        index=X_train_features.index\n",
    "    )\n",
    "    \n",
    "    X_val_temp = pd.DataFrame(\n",
    "        {\n",
    "            'num_count': X_val['num_count'].values,\n",
    "            'url_count': X_val['url_count'].values\n",
    "        },\n",
    "        index=X_val_features.index\n",
    "    )\n",
    "\n",
    "    X_test_temp = pd.DataFrame(\n",
    "        {\n",
    "            'num_count': X_test['num_count'].values,\n",
    "            'url_count': X_test['url_count'].values\n",
    "        },\n",
    "        index=X_test_features.index\n",
    "    )\n",
    "\n",
    "    X_train_af = pd.concat([X_train_features, X_train_temp], axis=1)\n",
    "    X_val_af = pd.concat([X_val_features, X_val_temp], axis=1)\n",
    "    X_test_af = pd.concat([X_test_features, X_test_temp], axis=1)\n",
    "\n",
    "    # Train Logistic Regression\n",
    "    model = LogisticRegression(solver='liblinear', random_state=42)\n",
    "    model.fit(X_train_af, y_train)\n",
    "\n",
    "    # Evaluate\n",
    "    y_pred = model.predict(X_test_af)\n",
    "    f1 = f1_score(y_test, y_pred)\n",
    "    report = classification_report(y_test, y_pred)\n",
    "\n",
    "    print(f\"F1 Score: {round(f1,3)}\\n\")\n",
    "    print(\"Classification Report:\\n\", report)\n",
    "\n",
    "\n",
    "    return model"
   ]
  },
  {
   "cell_type": "code",
   "execution_count": null,
   "metadata": {},
   "outputs": [
    {
     "name": "stderr",
     "output_type": "stream",
     "text": [
      "/opt/miniconda3/lib/python3.12/site-packages/sklearn/svm/_base.py:1235: ConvergenceWarning: Liblinear failed to converge, increase the number of iterations.\n",
      "  warnings.warn(\n"
     ]
    },
    {
     "name": "stdout",
     "output_type": "stream",
     "text": [
      "F1 Score: 0.798\n",
      "\n",
      "Classification Report:\n",
      "               precision    recall  f1-score   support\n",
      "\n",
      "           0       0.93      0.97      0.95      1477\n",
      "           1       0.86      0.74      0.80       429\n",
      "\n",
      "    accuracy                           0.92      1906\n",
      "   macro avg       0.90      0.85      0.87      1906\n",
      "weighted avg       0.91      0.92      0.91      1906\n",
      "\n"
     ]
    }
   ],
   "source": [
    "model2 = train_logistic_regression_additional_features(X_train, X_val, X_test, y_train, y_val, y_test)"
   ]
  },
  {
   "cell_type": "markdown",
   "metadata": {},
   "source": [
    "### BBC articles"
   ]
  },
  {
   "cell_type": "code",
   "execution_count": null,
   "metadata": {},
   "outputs": [
    {
     "data": {
      "text/html": [
       "<div>\n",
       "<style scoped>\n",
       "    .dataframe tbody tr th:only-of-type {\n",
       "        vertical-align: middle;\n",
       "    }\n",
       "\n",
       "    .dataframe tbody tr th {\n",
       "        vertical-align: top;\n",
       "    }\n",
       "\n",
       "    .dataframe thead th {\n",
       "        text-align: right;\n",
       "    }\n",
       "</style>\n",
       "<table border=\"1\" class=\"dataframe\">\n",
       "  <thead>\n",
       "    <tr style=\"text-align: right;\">\n",
       "      <th></th>\n",
       "      <th>Headline</th>\n",
       "      <th>Date</th>\n",
       "      <th>Author</th>\n",
       "      <th>Article text</th>\n",
       "    </tr>\n",
       "  </thead>\n",
       "  <tbody>\n",
       "    <tr>\n",
       "      <th>0</th>\n",
       "      <td>Pelicots' daughter presses charges against fat...</td>\n",
       "      <td>2025-03-06</td>\n",
       "      <td>Laura Gozzi</td>\n",
       "      <td>Caroline Darian, the daughter of Dominique and...</td>\n",
       "    </tr>\n",
       "    <tr>\n",
       "      <th>1</th>\n",
       "      <td>France has a nuclear umbrella. Could its Europ...</td>\n",
       "      <td>2025-03-06</td>\n",
       "      <td>Hugh Schofield</td>\n",
       "      <td>So in the end Charles de Gaulle was right.\\nA...</td>\n",
       "    </tr>\n",
       "    <tr>\n",
       "      <th>2</th>\n",
       "      <td>Trump celebrates Irish in America ahead of tao...</td>\n",
       "      <td>2025-03-07</td>\n",
       "      <td>Catherine Moore</td>\n",
       "      <td>US President Donald Trump has hailed the impac...</td>\n",
       "    </tr>\n",
       "    <tr>\n",
       "      <th>3</th>\n",
       "      <td>Denmark postal service to stop delivering letters</td>\n",
       "      <td>2025-03-06</td>\n",
       "      <td>Adrienne Murray &amp; Paul Kirby</td>\n",
       "      <td>Denmark's state-run postal service, PostNord, ...</td>\n",
       "    </tr>\n",
       "    <tr>\n",
       "      <th>4</th>\n",
       "      <td>This city helped the US back Ukraine. Now its ...</td>\n",
       "      <td>2025-03-06</td>\n",
       "      <td>Kayla Epstein</td>\n",
       "      <td>US President Donald Trump's pause on military...</td>\n",
       "    </tr>\n",
       "    <tr>\n",
       "      <th>...</th>\n",
       "      <td>...</td>\n",
       "      <td>...</td>\n",
       "      <td>...</td>\n",
       "      <td>...</td>\n",
       "    </tr>\n",
       "    <tr>\n",
       "      <th>161</th>\n",
       "      <td>Rower rescued days before completing trans-Pac...</td>\n",
       "      <td>2025-03-03</td>\n",
       "      <td>Kelly Ng</td>\n",
       "      <td>An adventurer who tried to row across the Paci...</td>\n",
       "    </tr>\n",
       "    <tr>\n",
       "      <th>162</th>\n",
       "      <td>Headline not found.</td>\n",
       "      <td>Publication date not found.</td>\n",
       "      <td>Author not found.</td>\n",
       "      <td>NaN</td>\n",
       "    </tr>\n",
       "    <tr>\n",
       "      <th>163</th>\n",
       "      <td>Headline not found.</td>\n",
       "      <td>Publication date not found.</td>\n",
       "      <td>Author not found.</td>\n",
       "      <td>NaN</td>\n",
       "    </tr>\n",
       "    <tr>\n",
       "      <th>164</th>\n",
       "      <td>Australia host loses job over offensive women'...</td>\n",
       "      <td>2025-02-26</td>\n",
       "      <td>Simon Atkinson</td>\n",
       "      <td>An Australian radio presenter has left the net...</td>\n",
       "    </tr>\n",
       "    <tr>\n",
       "      <th>165</th>\n",
       "      <td>Teen armed with gun overpowered by passengers ...</td>\n",
       "      <td>2025-03-06</td>\n",
       "      <td>Aleks Phillips</td>\n",
       "      <td>Police in Australia have charged a 17-year-old...</td>\n",
       "    </tr>\n",
       "  </tbody>\n",
       "</table>\n",
       "<p>166 rows × 4 columns</p>\n",
       "</div>"
      ],
      "text/plain": [
       "                                              Headline  \\\n",
       "0    Pelicots' daughter presses charges against fat...   \n",
       "1    France has a nuclear umbrella. Could its Europ...   \n",
       "2    Trump celebrates Irish in America ahead of tao...   \n",
       "3    Denmark postal service to stop delivering letters   \n",
       "4    This city helped the US back Ukraine. Now its ...   \n",
       "..                                                 ...   \n",
       "161  Rower rescued days before completing trans-Pac...   \n",
       "162                                Headline not found.   \n",
       "163                                Headline not found.   \n",
       "164  Australia host loses job over offensive women'...   \n",
       "165  Teen armed with gun overpowered by passengers ...   \n",
       "\n",
       "                            Date                        Author  \\\n",
       "0                     2025-03-06                   Laura Gozzi   \n",
       "1                     2025-03-06                Hugh Schofield   \n",
       "2                     2025-03-07               Catherine Moore   \n",
       "3                     2025-03-06  Adrienne Murray & Paul Kirby   \n",
       "4                     2025-03-06                 Kayla Epstein   \n",
       "..                           ...                           ...   \n",
       "161                   2025-03-03                      Kelly Ng   \n",
       "162  Publication date not found.             Author not found.   \n",
       "163  Publication date not found.             Author not found.   \n",
       "164                   2025-02-26                Simon Atkinson   \n",
       "165                   2025-03-06                Aleks Phillips   \n",
       "\n",
       "                                          Article text  \n",
       "0    Caroline Darian, the daughter of Dominique and...  \n",
       "1     So in the end Charles de Gaulle was right.\\nA...  \n",
       "2    US President Donald Trump has hailed the impac...  \n",
       "3    Denmark's state-run postal service, PostNord, ...  \n",
       "4     US President Donald Trump's pause on military...  \n",
       "..                                                 ...  \n",
       "161  An adventurer who tried to row across the Paci...  \n",
       "162                                                NaN  \n",
       "163                                                NaN  \n",
       "164  An Australian radio presenter has left the net...  \n",
       "165  Police in Australia have charged a 17-year-old...  \n",
       "\n",
       "[166 rows x 4 columns]"
      ]
     },
     "execution_count": 159,
     "metadata": {},
     "output_type": "execute_result"
    }
   ],
   "source": [
    "df_bbc = pd.read_csv('/Users/david.joergensen/Documents/ProjectsVS/Data Science Course/Project/bbc_articles.csv')\n",
    "df_bbc.shape\n",
    "df_bbc"
   ]
  },
  {
   "cell_type": "markdown",
   "metadata": {},
   "source": [
    "### Processing"
   ]
  },
  {
   "cell_type": "code",
   "execution_count": null,
   "metadata": {},
   "outputs": [
    {
     "name": "stdout",
     "output_type": "stream",
     "text": [
      "Size before stemming: 5742\n",
      "Size after stemming: 4339\n"
     ]
    }
   ],
   "source": [
    "# Applying the processing pipeline\n",
    "\n",
    "df_bbc['Article text'] = df_bbc['Article text'].fillna('')\n",
    "df_bbc['Article text'] = df_bbc['Article text'].apply(clean_text_2)\n",
    "\n",
    "tokens_BBC = df_bbc['Article text'].apply(nltk.word_tokenize).rename('tokens')\n",
    "tokens_BBC = tokens_BBC.apply(filter_stopwords)\n",
    "\n",
    "print(f'Size before stemming: {vocab_size_2(tokens_BBC)}')\n",
    "stems_BBC = tokens_BBC.apply(stem).rename('stems')\n",
    "print(f'Size after stemming: {vocab_size_2(stems_BBC)}')\n",
    "\n"
   ]
  },
  {
   "cell_type": "markdown",
   "metadata": {},
   "source": [
    "### Merging with existing training data"
   ]
  },
  {
   "cell_type": "code",
   "execution_count": null,
   "metadata": {},
   "outputs": [],
   "source": [
    "\n",
    "y_BBC = pd.Series([1] * len(stems_BBC))\n",
    "y_train_new = pd.concat([y_train, y_BBC], axis=0)\n",
    "\n",
    "X_train_new = pd.concat([X_train, stems_BBC], axis=0)\n",
    "\n",
    "stems_BBC_train, X_temp, y_train, y_temp = train_test_split(X, y, test_size=0.2, random_state=0,stratify=y)\n",
    "X_val, X_test, y_val, y_test = train_test_split(X_temp, y_temp, test_size=0.5, random_state=0,stratify=y_temp)\n",
    "\n"
   ]
  },
  {
   "cell_type": "markdown",
   "metadata": {},
   "source": [
    "### Result"
   ]
  },
  {
   "cell_type": "code",
   "execution_count": null,
   "metadata": {},
   "outputs": [
    {
     "name": "stderr",
     "output_type": "stream",
     "text": [
      "/opt/miniconda3/lib/python3.12/site-packages/sklearn/svm/_base.py:1235: ConvergenceWarning: Liblinear failed to converge, increase the number of iterations.\n",
      "  warnings.warn(\n"
     ]
    },
    {
     "name": "stdout",
     "output_type": "stream",
     "text": [
      "F1 Score: 0.841\n",
      "\n",
      "Classification Report:\n",
      "               precision    recall  f1-score   support\n",
      "\n",
      "           0       0.95      0.96      0.95      1477\n",
      "           1       0.85      0.83      0.84       429\n",
      "\n",
      "    accuracy                           0.93      1906\n",
      "   macro avg       0.90      0.89      0.90      1906\n",
      "weighted avg       0.93      0.93      0.93      1906\n",
      "\n"
     ]
    }
   ],
   "source": [
    "\n",
    "model3 = train_logistic_regression_with_vocabulary(X_train_new, X_val, X_test, y_train_new, y_val, y_test)\n",
    "\n",
    "\n",
    "\n"
   ]
  },
  {
   "cell_type": "markdown",
   "metadata": {},
   "source": [
    "## Part 3: Advanced Model"
   ]
  },
  {
   "cell_type": "markdown",
   "metadata": {},
   "source": [
    "..........\n",
    ".........."
   ]
  },
  {
   "cell_type": "markdown",
   "metadata": {},
   "source": [
    "## Part 4: Evaluation"
   ]
  },
  {
   "cell_type": "code",
   "execution_count": null,
   "metadata": {},
   "outputs": [
    {
     "name": "stdout",
     "output_type": "stream",
     "text": [
      "(10239, 14)\n",
      "(1283, 14)\n",
      "0       Wisconsin is on pace to double the number of l...\n",
      "1       Says John McCain has done nothing to help the ...\n",
      "2       Suzanne Bonamici supports a plan that will cut...\n",
      "3       When asked by a reporter whether hes at the ce...\n",
      "4       Over the past five years the federal governmen...\n",
      "                              ...                        \n",
      "1261    Says his budget provides the highest state fun...\n",
      "1262                      Ive been here almost every day.\n",
      "1263    In the early 1980s, Sen. Edward Kennedy secret...\n",
      "1264    Says an EPA permit languished under Strickland...\n",
      "1265    Says the governor is going around the state ta...\n",
      "Name: Building a wall on the U.S.-Mexico border will take literally years., Length: 1266, dtype: object\n"
     ]
    }
   ],
   "source": [
    "df_ltest = pd.read_csv(\"/Users/david.joergensen/Documents/ProjectsVS/Data Science Course/Project/test.tsv\", sep=\"\\t\")\n",
    "\n",
    "print(df_ltest.iloc[:, 2])\n"
   ]
  },
  {
   "cell_type": "code",
   "execution_count": 235,
   "metadata": {},
   "outputs": [
    {
     "name": "stdout",
     "output_type": "stream",
     "text": [
      "Size before stemming: 4131\n",
      "Size after stemming: 3189\n"
     ]
    }
   ],
   "source": [
    "\n",
    "test_temp = df_ltest.iloc[:, 2].fillna('')\n",
    "test_temp = test_temp.apply(clean_text_2)\n",
    "\n",
    "tokens_test = test_temp.apply(nltk.word_tokenize).rename('tokens')\n",
    "tokens_test = tokens_test.apply(filter_stopwords)\n",
    "\n",
    "stems_test = tokens_test.apply(stem).rename('stems')\n",
    "\n",
    "print(f'Size before stemming: {vocab_size_2(tokens_test)}')\n",
    "print(f'Size after stemming: {vocab_size_2(stems_test)}')\n",
    "\n",
    "\n"
   ]
  },
  {
   "cell_type": "code",
   "execution_count": 240,
   "metadata": {},
   "outputs": [
    {
     "name": "stdout",
     "output_type": "stream",
     "text": [
      "0             false\n",
      "1             false\n",
      "2         half-true\n",
      "3        pants-fire\n",
      "4              true\n",
      "           ...     \n",
      "1261      half-true\n",
      "1262    barely-true\n",
      "1263    barely-true\n",
      "1264    barely-true\n",
      "1265          false\n",
      "Name: true, Length: 1266, dtype: object\n",
      "0      0\n",
      "1      0\n",
      "2      1\n",
      "3      0\n",
      "4      1\n",
      "      ..\n",
      "295    0\n",
      "296    1\n",
      "297    1\n",
      "298    0\n",
      "299    0\n",
      "Name: true, Length: 300, dtype: int64\n"
     ]
    },
    {
     "data": {
      "text/plain": [
       "type\n",
       "0    14768\n",
       "1     4289\n",
       "Name: count, dtype: int64"
      ]
     },
     "execution_count": 240,
     "metadata": {},
     "output_type": "execute_result"
    }
   ],
   "source": [
    "y_test = df_ltest.iloc[:, 1]\n",
    "print(y_test)\n",
    "\n",
    "y_test = y_test.apply(lambda x: 1 if x in ['true', 'mostly-true', 'half-true'] else 0).rename(y_test.name)\n",
    "print(y_test[0:300])\n",
    "\n",
    "y.value_counts()"
   ]
  },
  {
   "cell_type": "code",
   "execution_count": 238,
   "metadata": {},
   "outputs": [
    {
     "name": "stdout",
     "output_type": "stream",
     "text": [
      "                                                  stems\n",
      "0        [wisconsin, pace, doubl, number, layoff, year]\n",
      "1            [say, john, mccain, done, noth, help, vet]\n",
      "2     [suzann, bonamici, support, plan, cut, choic, ...\n",
      "3     [ask, report, whether, he, center, crimin, sch...\n",
      "4     [past, five, year, feder, govern, paid, $, num...\n",
      "...                                                 ...\n",
      "1261  [say, budget, provid, highest, state, fund, le...\n",
      "1262                          [ive, almost, everi, day]\n",
      "1263  [earli, num, sen, edward, kennedi, secretli, o...\n",
      "1264  [say, epa, permit, languish, strickland, new, ...\n",
      "1265  [say, governor, go, around, state, talk, fund,...\n",
      "\n",
      "[1266 rows x 1 columns]\n"
     ]
    }
   ],
   "source": [
    "X_test = stems_test.to_frame()\n",
    "\n",
    "print(X_test)"
   ]
  },
  {
   "cell_type": "code",
   "execution_count": 239,
   "metadata": {},
   "outputs": [
    {
     "name": "stderr",
     "output_type": "stream",
     "text": [
      "/opt/miniconda3/lib/python3.12/site-packages/sklearn/svm/_base.py:1235: ConvergenceWarning: Liblinear failed to converge, increase the number of iterations.\n",
      "  warnings.warn(\n"
     ]
    },
    {
     "name": "stdout",
     "output_type": "stream",
     "text": [
      "F1 Score: 0.0\n",
      "\n",
      "Classification Report:\n",
      "               precision    recall  f1-score   support\n",
      "\n",
      "           0       0.44      1.00      0.61       553\n",
      "           1       0.00      0.00      0.00       713\n",
      "\n",
      "    accuracy                           0.44      1266\n",
      "   macro avg       0.22      0.50      0.30      1266\n",
      "weighted avg       0.19      0.44      0.27      1266\n",
      "\n"
     ]
    },
    {
     "name": "stderr",
     "output_type": "stream",
     "text": [
      "/opt/miniconda3/lib/python3.12/site-packages/sklearn/metrics/_classification.py:1531: UndefinedMetricWarning: Precision is ill-defined and being set to 0.0 in labels with no predicted samples. Use `zero_division` parameter to control this behavior.\n",
      "  _warn_prf(average, modifier, f\"{metric.capitalize()} is\", len(result))\n",
      "/opt/miniconda3/lib/python3.12/site-packages/sklearn/metrics/_classification.py:1531: UndefinedMetricWarning: Precision is ill-defined and being set to 0.0 in labels with no predicted samples. Use `zero_division` parameter to control this behavior.\n",
      "  _warn_prf(average, modifier, f\"{metric.capitalize()} is\", len(result))\n",
      "/opt/miniconda3/lib/python3.12/site-packages/sklearn/metrics/_classification.py:1531: UndefinedMetricWarning: Precision is ill-defined and being set to 0.0 in labels with no predicted samples. Use `zero_division` parameter to control this behavior.\n",
      "  _warn_prf(average, modifier, f\"{metric.capitalize()} is\", len(result))\n"
     ]
    }
   ],
   "source": [
    "model4 = train_logistic_regression_with_vocabulary(X_train, X_val, X_test, y_train, y_val, y_test)"
   ]
  }
 ],
 "metadata": {
  "kernelspec": {
   "display_name": "base",
   "language": "python",
   "name": "python3"
  },
  "language_info": {
   "codemirror_mode": {
    "name": "ipython",
    "version": 3
   },
   "file_extension": ".py",
   "mimetype": "text/x-python",
   "name": "python",
   "nbconvert_exporter": "python",
   "pygments_lexer": "ipython3",
   "version": "3.12.2"
  }
 },
 "nbformat": 4,
 "nbformat_minor": 2
}
